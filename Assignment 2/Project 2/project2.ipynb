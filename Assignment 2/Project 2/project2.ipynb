{
 "cells": [
  {
   "cell_type": "markdown",
   "id": "249af55d-90f7-4914-b6bb-4a3622dc12cd",
   "metadata": {},
   "source": [
    "# Tester fra getting_started og 6_ex_post"
   ]
  },
  {
   "cell_type": "code",
   "execution_count": 363,
   "id": "2769b990-8d24-44b9-98f5-e59a04a8c1fc",
   "metadata": {
    "tags": []
   },
   "outputs": [],
   "source": [
    "import pandas as pd \n",
    "import numpy as np \n",
    "import numpy.linalg as la\n",
    "from sklearn.linear_model import Lasso\n",
    "from scipy.stats import norm\n",
    "from sklearn.preprocessing import PolynomialFeatures\n",
    "import statsmodels.formula.api as smf\n",
    "import matplotlib.pyplot as plt\n",
    "import labels\n",
    "import geopandas"
   ]
  },
  {
   "cell_type": "code",
   "execution_count": 328,
   "id": "f63ea70f-f57c-44e1-88f2-c4cc197e52a4",
   "metadata": {
    "tags": []
   },
   "outputs": [
    {
     "name": "stdout",
     "output_type": "stream",
     "text": [
      "The data contains 214 rows (countries) and 85 columns (variables).\n"
     ]
    }
   ],
   "source": [
    "dat = pd.read_csv('growth.csv')\n",
    "lbldf = pd.read_csv('labels.csv', index_col='variable')\n",
    "lbl_all = lbldf.label.to_dict() # as a dictionary\n",
    "print(f'The data contains {dat.shape[0]} rows (countries) and {dat.shape[1]} columns (variables).')"
   ]
  },
  {
   "cell_type": "markdown",
   "id": "13dff7a8-ba33-4453-bf20-186c44037249",
   "metadata": {},
   "source": [
    "# Variable selection"
   ]
  },
  {
   "cell_type": "code",
   "execution_count": 329,
   "id": "7c741c2b-af5f-4bf8-832e-0aeb5032d80b",
   "metadata": {
    "tags": []
   },
   "outputs": [],
   "source": [
    "# all available variables\n",
    "\n",
    "#  'marketref', \n",
    "#  , \n",
    "vv_regressors = ['lgdp_initial', 'pop_growth', 'investment_rate']\n",
    "vv_institutions = ['dem', 'demCGV', 'demBMR', 'demreg'] \n",
    "vv_geography = [\n",
    "        'tropicar','distr', 'distcr', 'distc','suitavg','temp', 'suitgini', 'elevavg', 'elevstd',\n",
    "        'kgatr', 'precip', 'area', 'abslat', 'cenlong', 'area_ar', 'rough','landlock', \n",
    "        'africa',  'asia', 'oceania', 'americas' # 'europe' is the reference\n",
    "]\n",
    "vv_geneticdiversity = ['pdiv', 'pdiv_aa'] #, 'pdivhmi', 'pdivhmi_aa']\n",
    "vv_historical = ['pd1000', 'pd1500', 'pop1000', 'pop1500', 'ln_yst'] # these are often missing: ['pd1', 'pop1']\n",
    "vv_religion = ['pprotest', 'pcatholic', 'pmuslim']\n",
    "vv_danger = ['yellow', 'malfal',  'uvdamage']\n",
    "vv_resources = ['oilres', 'goldm', 'iron', 'silv', 'zinc']\n",
    "vv_educ = ['ls_bl', 'lh_bl'] # secondary, tertiary: we exclude 'lp_bl' (primary) to avoid rank failure \n",
    "\n",
    "vv_all = {'regressors': vv_regressors,\n",
    "          'institutions': vv_institutions, \n",
    "          'geography': vv_geography, \n",
    "          'geneticdiversity': vv_geneticdiversity,\n",
    "          'historical': vv_historical,\n",
    "          'religion': vv_religion,\n",
    "          'danger':vv_danger, \n",
    "          'resources':vv_resources,\n",
    "          'education':vv_educ\n",
    "         }\n",
    "list_of_lists = vv_all.values()\n",
    "vv_all['all'] = [v for sublist in list_of_lists for v in sublist]\n",
    "\n",
    "#print([item for item in variables if item not in vv_all['all']])\n",
    "\n",
    "list_of_var = vv_regressors + vv_institutions + vv_geography + vv_geneticdiversity + vv_historical + vv_religion + vv_danger + vv_resources + vv_educ\n"
   ]
  },
  {
   "cell_type": "code",
   "execution_count": 389,
   "id": "21db7756-0cca-4734-a9c5-9543c4a5b2ed",
   "metadata": {
    "tags": []
   },
   "outputs": [],
   "source": [
    "vs = vv_all['all'] #+ ['code']\n",
    "xs = vs\n",
    "\n",
    "# avoiding missings\n",
    "all_vars = ['gdp_growth'] + xs\n",
    "I = dat[all_vars].notnull().all(1)\n",
    "\n",
    "# extract data\n",
    "X_basic = dat.loc[I, xs].values\n",
    "y = dat.loc[I,'gdp_growth'].values.reshape((-1,1)) * 100. #easier to read output when growth is in 100%\n",
    "# add const. (unless this breaks the rank condition)\n",
    "# oo = np.ones((I.sum(),1))\n",
    "# X = np.hstack([X, oo])\n",
    "# xs.append('constant') # we put it in as the last element\n",
    "\n",
    "# check the rank condition\n",
    "#K = X.shape[1]\n",
    "#assert np.linalg.matrix_rank(X) == X.shape[1], f'X does not have full rank'\n",
    "\n",
    "# compute the OLS estimator\n",
    "#betas = np.linalg.inv(X.T @ X) @ X.T @ y"
   ]
  },
  {
   "cell_type": "markdown",
   "id": "45fe4b3d-d107-463d-8e96-edff20256438",
   "metadata": {},
   "source": [
    "## Tables to appendix"
   ]
  },
  {
   "cell_type": "code",
   "execution_count": 369,
   "id": "02aada33-ea1f-478d-a829-9fc749571336",
   "metadata": {
    "tags": []
   },
   "outputs": [],
   "source": [
    "# MAKING A TABLE OF USED VARIABLES: Filter the DataFrame based on values in Column1\n",
    "selected_rows = lbldf.loc[lbldf.index.isin(list_of_var)]"
   ]
  },
  {
   "cell_type": "code",
   "execution_count": 388,
   "id": "bea2d68d-401b-4baa-95a0-8b1870dd7efc",
   "metadata": {
    "tags": []
   },
   "outputs": [],
   "source": [
    "lande_test = pd.DataFrame(X_basic, columns=xs)\n",
    "lande_test = lande_test.set_index('code')\n",
    "lande_test\n",
    "\n",
    "pd.set_option('display.max_columns', None)  # Show all columns\n",
    "pd.set_option('display.max_rows', None)     # Show all rows\n",
    "\n",
    "lande_test\n",
    "\n",
    "lande = lande_test.index\n",
    "\n",
    "countries = ['ARG', 'AUS', 'AUT', 'BDI', 'BEL', 'BEN', 'BOL', 'BRA', 'BWA', 'CAF',\n",
    "             'CHL', 'CHN', 'CIV', 'CMR', 'COG', 'COL', 'CRI', 'DEU', 'DNK', 'DOM',\n",
    "             'DZA', 'ECU', 'EGY', 'ESP', 'FRA', 'GAB', 'GBR', 'GHA', 'GMB', 'GRC',\n",
    "             'GTM', 'HND', 'HTI', 'IDN', 'IND', 'IRL', 'IRN', 'IRQ', 'ITA', 'KEN',\n",
    "             'KOR', 'LKA', 'LSO', 'MAR', 'MEX', 'MLI', 'MMR', 'MRT', 'MYS', 'NER',\n",
    "             'NIC', 'NLD', 'NOR', 'NPL', 'PAK', 'PAN', 'PER', 'PHL', 'PRT', 'PRY',\n",
    "             'RWA', 'SAU', 'SDN', 'SEN', 'SLE', 'SLV', 'SWE', 'TGO', 'THA', 'TUN',\n",
    "             'TUR', 'USA', 'ZAF', 'ZMB', 'ZWE']\n",
    "\n",
    "# Convert the list to a Pandas Series\n",
    "series = pd.Series(countries)\n",
    "\n",
    "# Format the Series as a LaTeX table\n",
    "#latex_table = series.to_latex(index=False, header=False)\n",
    "\n",
    "# Print the LaTeX table\n",
    "#print(latex_table)\n",
    "\n",
    "#countries_included = pd.DataFrame(lande_test['code'])"
   ]
  },
  {
   "cell_type": "markdown",
   "id": "cbf1050c-2b06-4ded-a909-3ab2adac0758",
   "metadata": {},
   "source": [
    "## Calculating missings for earch variable"
   ]
  },
  {
   "cell_type": "code",
   "execution_count": 392,
   "id": "b715c73c-546a-4f44-9536-16afc8418a6a",
   "metadata": {
    "tags": []
   },
   "outputs": [
    {
     "name": "stdout",
     "output_type": "stream",
     "text": [
      "Group regressors has variables ['lgdp_initial', 'pop_growth', 'investment_rate']\n",
      "Variable lgdp_initial has 105 missing values\n",
      "Variable pop_growth has 16 missing values\n",
      "Variable investment_rate has 35 missing values\n",
      "Group institutions has variables ['dem', 'demCGV', 'demBMR', 'demreg']\n",
      "Variable dem has 59 missing values\n",
      "Variable demCGV has 64 missing values\n",
      "Variable demBMR has 60 missing values\n",
      "Variable demreg has 31 missing values\n",
      "Group geography has variables ['tropicar', 'distr', 'distcr', 'distc', 'suitavg', 'temp', 'suitgini', 'elevavg', 'elevstd', 'kgatr', 'precip', 'area', 'abslat', 'cenlong', 'area_ar', 'rough', 'landlock', 'africa', 'asia', 'oceania', 'americas']\n",
      "Variable tropicar has 55 missing values\n",
      "Variable distr has 55 missing values\n",
      "Variable distcr has 55 missing values\n",
      "Variable distc has 55 missing values\n",
      "Variable suitavg has 59 missing values\n",
      "Variable temp has 30 missing values\n",
      "Variable suitgini has 54 missing values\n",
      "Variable elevavg has 30 missing values\n",
      "Variable elevstd has 53 missing values\n",
      "Variable kgatr has 54 missing values\n",
      "Variable precip has 30 missing values\n",
      "Variable area has 6 missing values\n",
      "Variable abslat has 9 missing values\n",
      "Variable cenlong has 6 missing values\n",
      "Variable area_ar has 18 missing values\n",
      "Variable rough has 30 missing values\n",
      "Variable landlock has 51 missing values\n",
      "Variable africa has 6 missing values\n",
      "Variable asia has 6 missing values\n",
      "Variable oceania has 6 missing values\n",
      "Variable americas has 6 missing values\n",
      "Group geneticdiversity has variables ['pdiv', 'pdiv_aa']\n",
      "Variable pdiv has 7 missing values\n",
      "Variable pdiv_aa has 50 missing values\n",
      "Group historical has variables ['pd1000', 'pd1500', 'pop1000', 'pop1500', 'ln_yst']\n",
      "Variable pd1000 has 37 missing values\n",
      "Variable pd1500 has 30 missing values\n",
      "Variable pop1000 has 37 missing values\n",
      "Variable pop1500 has 30 missing values\n",
      "Variable ln_yst has 50 missing values\n",
      "Group religion has variables ['pprotest', 'pcatholic', 'pmuslim']\n",
      "Variable pprotest has 13 missing values\n",
      "Variable pcatholic has 10 missing values\n",
      "Variable pmuslim has 10 missing values\n",
      "Group danger has variables ['yellow', 'malfal', 'uvdamage']\n",
      "Variable yellow has 51 missing values\n",
      "Variable malfal has 50 missing values\n",
      "Variable uvdamage has 7 missing values\n",
      "Group resources has variables ['oilres', 'goldm', 'iron', 'silv', 'zinc']\n",
      "Variable oilres has 60 missing values\n",
      "Variable goldm has 55 missing values\n",
      "Variable iron has 55 missing values\n",
      "Variable silv has 55 missing values\n",
      "Variable zinc has 55 missing values\n",
      "Group education has variables ['ls_bl', 'lh_bl']\n",
      "Variable ls_bl has 71 missing values\n",
      "Variable lh_bl has 71 missing values\n",
      "Group all has variables ['lgdp_initial', 'pop_growth', 'investment_rate', 'dem', 'demCGV', 'demBMR', 'demreg', 'tropicar', 'distr', 'distcr', 'distc', 'suitavg', 'temp', 'suitgini', 'elevavg', 'elevstd', 'kgatr', 'precip', 'area', 'abslat', 'cenlong', 'area_ar', 'rough', 'landlock', 'africa', 'asia', 'oceania', 'americas', 'pdiv', 'pdiv_aa', 'pd1000', 'pd1500', 'pop1000', 'pop1500', 'ln_yst', 'pprotest', 'pcatholic', 'pmuslim', 'yellow', 'malfal', 'uvdamage', 'oilres', 'goldm', 'iron', 'silv', 'zinc', 'ls_bl', 'lh_bl']\n",
      "Variable lgdp_initial has 105 missing values\n",
      "Variable pop_growth has 16 missing values\n",
      "Variable investment_rate has 35 missing values\n",
      "Variable dem has 59 missing values\n",
      "Variable demCGV has 64 missing values\n",
      "Variable demBMR has 60 missing values\n",
      "Variable demreg has 31 missing values\n",
      "Variable tropicar has 55 missing values\n",
      "Variable distr has 55 missing values\n",
      "Variable distcr has 55 missing values\n",
      "Variable distc has 55 missing values\n",
      "Variable suitavg has 59 missing values\n",
      "Variable temp has 30 missing values\n",
      "Variable suitgini has 54 missing values\n",
      "Variable elevavg has 30 missing values\n",
      "Variable elevstd has 53 missing values\n",
      "Variable kgatr has 54 missing values\n",
      "Variable precip has 30 missing values\n",
      "Variable area has 6 missing values\n",
      "Variable abslat has 9 missing values\n",
      "Variable cenlong has 6 missing values\n",
      "Variable area_ar has 18 missing values\n",
      "Variable rough has 30 missing values\n",
      "Variable landlock has 51 missing values\n",
      "Variable africa has 6 missing values\n",
      "Variable asia has 6 missing values\n",
      "Variable oceania has 6 missing values\n",
      "Variable americas has 6 missing values\n",
      "Variable pdiv has 7 missing values\n",
      "Variable pdiv_aa has 50 missing values\n",
      "Variable pd1000 has 37 missing values\n",
      "Variable pd1500 has 30 missing values\n",
      "Variable pop1000 has 37 missing values\n",
      "Variable pop1500 has 30 missing values\n",
      "Variable ln_yst has 50 missing values\n",
      "Variable pprotest has 13 missing values\n",
      "Variable pcatholic has 10 missing values\n",
      "Variable pmuslim has 10 missing values\n",
      "Variable yellow has 51 missing values\n",
      "Variable malfal has 50 missing values\n",
      "Variable uvdamage has 7 missing values\n",
      "Variable oilres has 60 missing values\n",
      "Variable goldm has 55 missing values\n",
      "Variable iron has 55 missing values\n",
      "Variable silv has 55 missing values\n",
      "Variable zinc has 55 missing values\n",
      "Variable ls_bl has 71 missing values\n",
      "Variable lh_bl has 71 missing values\n"
     ]
    }
   ],
   "source": [
    "for v, k in vv_all.items():\n",
    "    print(f'Group {v} has variables {k}')\n",
    "    for i in k:\n",
    "        num_missing = dat[i].isnull().sum()\n",
    "        print(f'Variable {i} has {num_missing} missing values')"
   ]
  },
  {
   "cell_type": "markdown",
   "id": "8decadc3-bee2-4a1e-b578-683b14903aaf",
   "metadata": {},
   "source": [
    "# Poulynomial features d, and controls"
   ]
  },
  {
   "cell_type": "code",
   "execution_count": 393,
   "id": "ed1b4c06-9ce3-4a58-8fc1-edcd2ce201a8",
   "metadata": {
    "tags": []
   },
   "outputs": [],
   "source": [
    "d = X_basic[:, 0].reshape(-1,1)\n",
    "\n",
    "Z_basic = X_basic[:, 1:]\n",
    "\n",
    "\n",
    "poly = PolynomialFeatures(3, include_bias=False)\n",
    "Z = poly.fit_transform(Z_basic)\n",
    "\n",
    "#X = X_basic\n",
    "\n",
    "# Find constant columns using NumPy\n",
    "constant_columns = np.all(Z == Z[0, :], axis=0)\n",
    "\n",
    "# Remove constant columns\n",
    "Z_nocons = Z[:, ~constant_columns]\n"
   ]
  },
  {
   "cell_type": "code",
   "execution_count": 394,
   "id": "314d8281-4ed8-4ca4-9b2b-9d89fb267abf",
   "metadata": {
    "tags": []
   },
   "outputs": [
    {
     "name": "stdout",
     "output_type": "stream",
     "text": [
      "(75, 48)\n",
      "(75, 1)\n",
      "(75, 47)\n",
      "(75, 19599)\n",
      "(75, 18871)\n"
     ]
    }
   ],
   "source": [
    "X = np.column_stack((d,Z))\n",
    "\n",
    "print(X_basic.shape)\n",
    "print(d.shape)\n",
    "print(Z_basic.shape)\n",
    "print(Z.shape)\n",
    "print(Z_nocons.shape)"
   ]
  },
  {
   "cell_type": "markdown",
   "id": "a2e1e26f-550f-41cb-82d7-e6479ad33da4",
   "metadata": {},
   "source": [
    "## Standardize"
   ]
  },
  {
   "cell_type": "code",
   "execution_count": 409,
   "id": "5255c23e-89e9-4c45-9dce-c9405da670c0",
   "metadata": {
    "tags": []
   },
   "outputs": [
    {
     "name": "stdout",
     "output_type": "stream",
     "text": [
      "(75, 18871)\n"
     ]
    }
   ],
   "source": [
    "def standardize(X):\n",
    "    X_mean = np.mean(X,axis=0)\n",
    "    X_std = np.std(X,axis=0, ddof=1)\n",
    "    X_stan=(X-X_mean)/X_std\n",
    "    return X_stan\n",
    "\n",
    "# Standardize data\n",
    "X_stan = standardize(X_nocons)\n",
    "d_stan = standardize(d)\n",
    "Z_stan = standardize(Z_nocons)\n",
    "\n",
    "print(Z_stan.shape)"
   ]
  },
  {
   "cell_type": "markdown",
   "id": "d841a6af-7f68-4454-816f-ceb95d91d65a",
   "metadata": {},
   "source": [
    "## BCCH - Choosing lambda - Lasso"
   ]
  },
  {
   "cell_type": "code",
   "execution_count": 410,
   "id": "860400ac-14cb-4213-af87-60db3040c335",
   "metadata": {},
   "outputs": [],
   "source": [
    "# BCCH\n",
    "\n",
    "def BCCH_pen(X_stan, y):\n",
    "\n",
    "    n,p = X_stan.shape\n",
    "    c = 1.1\n",
    "    alpha = 0.05\n",
    "\n",
    "    yXscale = (np.max((X_stan.T ** 2) @ ((y-np.mean(y)) ** 2) / n)) ** 0.5\n",
    "    penalty_pilot = c / np.sqrt(n) * norm.ppf(1-alpha/(2*p)) * yXscale # Note: Have divided by 2 due to Python definition of Lasso\n",
    "    print('Penalty_pilot: ', round(penalty_pilot, 2))\n",
    "\n",
    "    # Pilot estimates\n",
    "    #Create predicted value using Lasso\n",
    "    pred = Lasso(alpha=penalty_pilot).fit(X_stan,y).predict(X_stan).reshape(-1,1)\n",
    "\n",
    "    # Alternative: Manually\n",
    "    # coeff_pilot = Lasso(alpha=penalty_pilot).fit(X_stan,y).coef_\n",
    "    # coef_intercept = Lasso(alpha=penalty_pilot).fit(X_stan,y).intercept_\n",
    "    # pred = (coef_intercept + X_stan@coeff_pilot)\n",
    "\n",
    "    # Updated penalty\n",
    "    eps = y - pred\n",
    "    epsXscale = (np.max((X_stan.T ** 2) @ (eps ** 2) / n)) ** 0.5\n",
    "    penalty_BCCH = c*norm.ppf(1-alpha/(2*p))*epsXscale/np.sqrt(n)\n",
    "    print('Penalty BCCH: ', round(penalty_BCCH, 2))\n",
    "\n",
    "    # Updated estimates\n",
    "    fit_BCCH = Lasso(alpha=penalty_BCCH).fit(X_stan,y)\n",
    "    coeff_BCCH = fit_BCCH.coef_\n",
    "    print('Coefficients: ', np.round(coeff_BCCH))\n",
    "\n",
    "    # Selected variables\n",
    "    selected_variables_BCCH = (coeff_BCCH != 0)\n",
    "    #print('Selected varriables: ', Xnames[selected_variables_BCCH].to_list())\n",
    "    \n",
    "    return penalty_BCCH"
   ]
  },
  {
   "cell_type": "code",
   "execution_count": 411,
   "id": "0eb8b201-ec00-4253-88e0-cdabd9b20d0f",
   "metadata": {
    "tags": []
   },
   "outputs": [
    {
     "name": "stdout",
     "output_type": "stream",
     "text": [
      "Penalty_pilot:  3.48\n",
      "Penalty BCCH:  3.48\n",
      "Coefficients:  [-0. -0.  0. ...  0.  0.  0.]\n"
     ]
    }
   ],
   "source": [
    "n,p = X_stan.shape\n",
    "c = 1.1\n",
    "alpha = 0.05\n",
    "\n",
    "yXscale = (np.max((X_stan.T ** 2) @ ((y-np.mean(y)) ** 2) / n)) ** 0.5\n",
    "penalty_pilot = c / np.sqrt(n) * norm.ppf(1-alpha/(2*p)) * yXscale # Note: Have divided by 2 due to Python definition of Lasso\n",
    "print('Penalty_pilot: ', round(penalty_pilot, 2))\n",
    "\n",
    "# Pilot estimates\n",
    "#Create predicted value using Lasso\n",
    "pred = Lasso(alpha=penalty_pilot).fit(X_stan,y).predict(X_stan).reshape(-1,1)\n",
    "\n",
    "# Alternative: Manually\n",
    "# coeff_pilot = Lasso(alpha=penalty_pilot).fit(X_stan,y).coef_\n",
    "# coef_intercept = Lasso(alpha=penalty_pilot).fit(X_stan,y).intercept_\n",
    "# pred = (coef_intercept + X_stan@coeff_pilot)\n",
    "\n",
    "# Updated penalty\n",
    "eps = y - pred\n",
    "epsXscale = (np.max((X_stan.T ** 2) @ (eps ** 2) / n)) ** 0.5\n",
    "penalty_BCCH = c*norm.ppf(1-alpha/(2*p))*epsXscale/np.sqrt(n)\n",
    "print('Penalty BCCH: ', round(penalty_BCCH, 2))\n",
    "\n",
    "# Updated estimates\n",
    "fit_BCCH = Lasso(alpha=penalty_BCCH).fit(X_stan,y)\n",
    "coeff_BCCH = fit_BCCH.coef_\n",
    "print('Coefficients: ', np.round(coeff_BCCH))\n",
    "\n",
    "# Selected variables\n",
    "selected_variables_BCCH = (coeff_BCCH != 0)\n",
    "#print('Selected varriables: ', Xnames[selected_variables_BCCH].to_list())"
   ]
  },
  {
   "cell_type": "markdown",
   "id": "42c0664b-485a-4203-83c1-85a460ee64ea",
   "metadata": {},
   "source": [
    "## BCCH - PDL"
   ]
  },
  {
   "cell_type": "code",
   "execution_count": 412,
   "id": "8a05c08a-f1ab-40e1-8597-072a783f2141",
   "metadata": {
    "tags": []
   },
   "outputs": [
    {
     "name": "stdout",
     "output_type": "stream",
     "text": [
      "First coefficient = -0.0\n"
     ]
    }
   ],
   "source": [
    "# Calculate residuals\n",
    "resyx=y-fit_BCCH.predict(X_stan)\n",
    "\n",
    "# Calculate Y - Z@gamma\n",
    "resyxz = resyx + d_stan*coeff_BCCH[0]\n",
    "\n",
    "# Display first coefficient\n",
    "print(\"First coefficient =\",coeff_BCCH[0].round(2))"
   ]
  },
  {
   "cell_type": "code",
   "execution_count": 413,
   "id": "597e9c22-9caa-4c9f-9321-0a5fac1239d5",
   "metadata": {
    "tags": []
   },
   "outputs": [
    {
     "name": "stdout",
     "output_type": "stream",
     "text": [
      "Penalty_pilot:  1.53\n",
      "Penalty BCCH:  1.53\n",
      "Coefficients:  [-0.  0.  0. ...  0.  0.  0.]\n",
      "First coefficient = -0.0\n"
     ]
    }
   ],
   "source": [
    "# Calculate BRT penalty\n",
    "penalty_BCCHdz = BCCH_pen(Z_stan, d)\n",
    "\n",
    "# Run Lasso\n",
    "fit_BCCHdz=Lasso(alpha=penalty_BCCHdz, max_iter=10_000).fit(Z_stan,d) \n",
    "coefs=fit_BCCHdz.coef_\n",
    "\n",
    "# Calculate residuals\n",
    "resdz=d-fit_BCCHdz.predict(Z_stan)\n",
    "\n",
    "# Display first coefficient\n",
    "print(\"First coefficient =\",coefs[0].round(10))"
   ]
  },
  {
   "cell_type": "code",
   "execution_count": 414,
   "id": "e4e773eb-ddca-4c2f-87ef-5496f069a1c8",
   "metadata": {
    "tags": []
   },
   "outputs": [
    {
     "name": "stdout",
     "output_type": "stream",
     "text": [
      "beta_PDL =  -0.16573\n"
     ]
    }
   ],
   "source": [
    "# Calculate alpha\n",
    "num = np.sum(resdz*resyxz)\n",
    "denom = np.sum(resdz*d)\n",
    "beta_PDL = num/denom\n",
    "\n",
    "# Display alpha\n",
    "print(\"beta_PDL = \",beta_PDL.round(5))"
   ]
  },
  {
   "cell_type": "code",
   "execution_count": 415,
   "id": "2fb32c6a-1ec7-407d-87f1-1c636e578141",
   "metadata": {
    "tags": []
   },
   "outputs": [
    {
     "name": "stdout",
     "output_type": "stream",
     "text": [
      "sigma2_PDL =  0.01821\n"
     ]
    }
   ],
   "source": [
    "# Calculate variance    \n",
    "num = np.sum(resyx**2 * resdz**2) / n\n",
    "denom = (np.sum(resdz**2) / n)**2\n",
    "sigma2_PDL = num/denom\n",
    "\n",
    "# Display variance\n",
    "print(\"sigma2_PDL = \",sigma2_PDL.round(5))"
   ]
  },
  {
   "cell_type": "code",
   "execution_count": 416,
   "id": "c592c087-b2ce-4e13-a64f-f7f3137f8090",
   "metadata": {
    "tags": []
   },
   "outputs": [
    {
     "name": "stdout",
     "output_type": "stream",
     "text": [
      "se_PDL =  0.01558\n"
     ]
    }
   ],
   "source": [
    "# Calculate standard error\n",
    "se_PDL=np.sqrt(sigma2_PDL) /np.sqrt(n)\n",
    "\n",
    "# Display standard error\n",
    "print(\"se_PDL = \",se_PDL.round(5))"
   ]
  },
  {
   "cell_type": "markdown",
   "id": "26889eb5-227d-47f5-9a4a-1e59951bd049",
   "metadata": {},
   "source": [
    "## Confidence interval"
   ]
  },
  {
   "cell_type": "code",
   "execution_count": 417,
   "id": "5d0dad41-3ec0-4a13-a088-092c7bbbf735",
   "metadata": {
    "tags": []
   },
   "outputs": [
    {
     "name": "stdout",
     "output_type": "stream",
     "text": [
      "CI_PDL =  (-0.196, -0.135)\n"
     ]
    }
   ],
   "source": [
    "# Calculate the quantile of the standard normal distribution that corresponds to the 95% confidence interval of a two-sided test\n",
    "q = norm.ppf(1-0.025)\n",
    "\n",
    "# Calculate confidence interval\n",
    "CI_low_PDL  = alpha_PDL - q*se_PDL\n",
    "CI_high_PDL = alpha_PDL + q*se_PDL\n",
    "\n",
    "# Display confidence interval\n",
    "print(\"CI_PDL = \",(CI_low_PDL.round(3),CI_high_PDL.round(3)))"
   ]
  },
  {
   "cell_type": "markdown",
   "id": "a21f77dc-1699-4e29-937a-db349a959be2",
   "metadata": {},
   "source": [
    "# Test med landkort"
   ]
  },
  {
   "cell_type": "code",
   "execution_count": 376,
   "id": "17fe1e76-6aed-4d5a-b145-4628dc58c0c9",
   "metadata": {
    "tags": []
   },
   "outputs": [],
   "source": [
    "kort = pd.DataFrame(X_basic, columns=xs)"
   ]
  },
  {
   "cell_type": "code",
   "execution_count": 405,
   "id": "569aac7e-8f8b-436d-afda-536f1db31503",
   "metadata": {
    "tags": []
   },
   "outputs": [
    {
     "name": "stderr",
     "output_type": "stream",
     "text": [
      "/var/folders/2c/dg2kgl611z5c74nvz9fw_x9m0000gp/T/ipykernel_37778/59734491.py:2: FutureWarning: The geopandas.dataset module is deprecated and will be removed in GeoPandas 1.0. You can get the original 'naturalearth_lowres' data from https://www.naturalearthdata.com/downloads/110m-cultural-vectors/.\n",
      "  world = geopandas.read_file(geopandas.datasets.get_path('naturalearth_lowres'))\n"
     ]
    },
    {
     "data": {
      "image/png": "[encoded data removed]",
      "text/plain": [
       "<Figure size 640x480 with 1 Axes>"
      ]
     },
     "metadata": {},
     "output_type": "display_data"
    }
   ],
   "source": [
    "# Load the world map dataset\n",
    "world = geopandas.read_file(geopandas.datasets.get_path('naturalearth_lowres'))\n",
    "\n",
    "# List of country codes to highlight\n",
    "highlighted_countries = ['ARG', 'AUS', 'AUT', 'BDI', 'BEL', 'BEN', 'BOL', 'BRA', 'BWA', 'CAF',\n",
    "             'CHL', 'CHN', 'CIV', 'CMR', 'COG', 'COL', 'CRI', 'DEU', 'DNK', 'DOM',\n",
    "             'DZA', 'ECU', 'EGY', 'ESP', 'FRA', 'GAB', 'GBR', 'GHA', 'GMB', 'GRC',\n",
    "             'GTM', 'HND', 'HTI', 'IDN', 'IND', 'IRL', 'IRN', 'IRQ', 'ITA', 'KEN',\n",
    "             'KOR', 'LKA', 'LSO', 'MAR', 'MEX', 'MLI', 'MMR', 'MRT', 'MYS', 'NER',\n",
    "             'NIC', 'NLD', 'NOR', 'NPL', 'PAK', 'PAN', 'PER', 'PHL', 'PRT', 'PRY',\n",
    "             'RWA', 'SAU', 'SDN', 'SEN', 'SLE', 'SLV', 'SWE', 'TGO', 'THA', 'TUN',\n",
    "             'TUR', 'USA', 'ZAF', 'ZMB', 'ZWE']\n",
    "\n",
    "# Filter the world dataset to include only the highlighted countries\n",
    "highlighted_world = world[world['iso_a3'].isin(highlighted_countries)]\n",
    "\n",
    "# Plot the world map with highlighted countries\n",
    "world.boundary.plot(linewidth=0.8, color='k', ax=plt.gca())\n",
    "highlighted_world.plot(ax=plt.gca(), color='red')\n",
    "\n",
    "plt.axis('off')\n",
    "\n",
    "# Set the plot title\n",
    "#plt.title(\"Countries included in analysis\")\n",
    "\n",
    "plt.savefig('world_map.pdf', bbox_inches='tight', pad_inches=0.1)\n",
    "\n",
    "# Show the plot\n",
    "plt.show()"
   ]
  },
  {
   "cell_type": "code",
   "execution_count": null,
   "id": "33a14d59-789b-4fe0-b4de-3443bd4a3042",
   "metadata": {},
   "outputs": [],
   "source": []
  }
 ],
 "metadata": {
  "kernelspec": {
   "display_name": "Python 3 (ipykernel)",
   "language": "python",
   "name": "python3"
  },
  "language_info": {
   "codemirror_mode": {
    "name": "ipython",
    "version": 3
   },
   "file_extension": ".py",
   "mimetype": "text/x-python",
   "name": "python",
   "nbconvert_exporter": "python",
   "pygments_lexer": "ipython3",
   "version": "3.11.3"
  }
 },
 "nbformat": 4,
 "nbformat_minor": 5
}
