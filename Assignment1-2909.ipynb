{
 "cells": [
  {
   "cell_type": "markdown",
   "metadata": {},
   "source": [
    "# Production Technology\n",
    "\n",
    "The dataset contains `N = 441` firms observed over `T = 12` years, 1968-1979. There variables are: \n",
    "* `lcap`: Log of capital stock, $k_{it}$ \n",
    "* `lemp`: log of employment, $\\ell_{it}$ \n",
    "* `ldsa`: log of deflated sales, $y_{it}$\n",
    "* `year`: the calendar year of the observation, `year` $ = 1968, ..., 1979$, \n",
    "* `firmid`: anonymized indicator variable for the firm, $i = 1, ..., N$, with $N=441$. "
   ]
  },
  {
   "cell_type": "code",
   "execution_count": 345,
   "metadata": {
    "tags": []
   },
   "outputs": [
    {
     "name": "stdout",
     "output_type": "stream",
     "text": [
      "The autoreload extension is already loaded. To reload it, use:\n",
      "  %reload_ext autoreload\n"
     ]
    }
   ],
   "source": [
    "import numpy as np\n",
    "from numpy import linalg as la\n",
    "import pandas as pd\n",
    "from io import StringIO\n",
    "from tabulate import tabulate\n",
    "from matplotlib import pyplot as plt\n",
    "import seaborn as sns\n",
    "\n",
    "# Import this weeks LinearModels .py file\n",
    "import LinearModelsWeek3 as lm\n",
    "%load_ext autoreload\n",
    "%autoreload 2"
   ]
  },
  {
   "cell_type": "code",
   "execution_count": 346,
   "metadata": {
    "tags": []
   },
   "outputs": [],
   "source": [
    "dat = pd.read_csv('firms.csv')"
   ]
  },
  {
   "cell_type": "markdown",
   "metadata": {},
   "source": [
    "# Descriptives"
   ]
  },
  {
   "cell_type": "code",
   "execution_count": 347,
   "metadata": {
    "tags": []
   },
   "outputs": [],
   "source": [
    "#dat.describe()"
   ]
  },
  {
   "cell_type": "code",
   "execution_count": 348,
   "metadata": {
    "tags": []
   },
   "outputs": [],
   "source": [
    "#dat[['lcap','lemp','ldsa']].hist();"
   ]
  },
  {
   "cell_type": "code",
   "execution_count": 349,
   "metadata": {
    "tags": []
   },
   "outputs": [],
   "source": [
    "#sns.scatterplot(x='lemp', y='ldsa', data=dat); "
   ]
  },
  {
   "cell_type": "markdown",
   "metadata": {},
   "source": [
    "# Converting data to numpy format "
   ]
  },
  {
   "cell_type": "code",
   "execution_count": 350,
   "metadata": {
    "tags": []
   },
   "outputs": [
    {
     "data": {
      "text/html": [
       "<div>\n",
       "<style scoped>\n",
       "    .dataframe tbody tr th:only-of-type {\n",
       "        vertical-align: middle;\n",
       "    }\n",
       "\n",
       "    .dataframe tbody tr th {\n",
       "        vertical-align: top;\n",
       "    }\n",
       "\n",
       "    .dataframe thead th {\n",
       "        text-align: right;\n",
       "    }\n",
       "</style>\n",
       "<table border=\"1\" class=\"dataframe\">\n",
       "  <thead>\n",
       "    <tr style=\"text-align: right;\">\n",
       "      <th></th>\n",
       "      <th>firmid</th>\n",
       "      <th>year</th>\n",
       "      <th>lcap</th>\n",
       "      <th>lemp</th>\n",
       "      <th>ldsa</th>\n",
       "    </tr>\n",
       "  </thead>\n",
       "  <tbody>\n",
       "    <tr>\n",
       "      <th>0</th>\n",
       "      <td>1</td>\n",
       "      <td>1968</td>\n",
       "      <td>0.998602</td>\n",
       "      <td>-0.242185</td>\n",
       "      <td>0.349053</td>\n",
       "    </tr>\n",
       "    <tr>\n",
       "      <th>1</th>\n",
       "      <td>1</td>\n",
       "      <td>1969</td>\n",
       "      <td>0.925214</td>\n",
       "      <td>-0.241278</td>\n",
       "      <td>0.312492</td>\n",
       "    </tr>\n",
       "    <tr>\n",
       "      <th>2</th>\n",
       "      <td>1</td>\n",
       "      <td>1970</td>\n",
       "      <td>0.879616</td>\n",
       "      <td>-0.265134</td>\n",
       "      <td>0.347566</td>\n",
       "    </tr>\n",
       "    <tr>\n",
       "      <th>3</th>\n",
       "      <td>2</td>\n",
       "      <td>1968</td>\n",
       "      <td>-0.069588</td>\n",
       "      <td>-0.323021</td>\n",
       "      <td>-0.945831</td>\n",
       "    </tr>\n",
       "    <tr>\n",
       "      <th>4</th>\n",
       "      <td>2</td>\n",
       "      <td>1969</td>\n",
       "      <td>-0.056724</td>\n",
       "      <td>-0.358177</td>\n",
       "      <td>-1.143830</td>\n",
       "    </tr>\n",
       "    <tr>\n",
       "      <th>...</th>\n",
       "      <td>...</td>\n",
       "      <td>...</td>\n",
       "      <td>...</td>\n",
       "      <td>...</td>\n",
       "      <td>...</td>\n",
       "    </tr>\n",
       "    <tr>\n",
       "      <th>1318</th>\n",
       "      <td>440</td>\n",
       "      <td>1969</td>\n",
       "      <td>-0.228757</td>\n",
       "      <td>0.031242</td>\n",
       "      <td>-0.246864</td>\n",
       "    </tr>\n",
       "    <tr>\n",
       "      <th>1319</th>\n",
       "      <td>440</td>\n",
       "      <td>1970</td>\n",
       "      <td>-0.038354</td>\n",
       "      <td>0.062158</td>\n",
       "      <td>-0.345710</td>\n",
       "    </tr>\n",
       "    <tr>\n",
       "      <th>1320</th>\n",
       "      <td>441</td>\n",
       "      <td>1968</td>\n",
       "      <td>-1.618390</td>\n",
       "      <td>-1.944210</td>\n",
       "      <td>-2.032340</td>\n",
       "    </tr>\n",
       "    <tr>\n",
       "      <th>1321</th>\n",
       "      <td>441</td>\n",
       "      <td>1969</td>\n",
       "      <td>-1.635030</td>\n",
       "      <td>-1.856580</td>\n",
       "      <td>-2.011210</td>\n",
       "    </tr>\n",
       "    <tr>\n",
       "      <th>1322</th>\n",
       "      <td>441</td>\n",
       "      <td>1970</td>\n",
       "      <td>-1.454890</td>\n",
       "      <td>-1.538940</td>\n",
       "      <td>-1.371550</td>\n",
       "    </tr>\n",
       "  </tbody>\n",
       "</table>\n",
       "<p>1323 rows × 5 columns</p>\n",
       "</div>"
      ],
      "text/plain": [
       "      firmid  year      lcap      lemp      ldsa\n",
       "0          1  1968  0.998602 -0.242185  0.349053\n",
       "1          1  1969  0.925214 -0.241278  0.312492\n",
       "2          1  1970  0.879616 -0.265134  0.347566\n",
       "3          2  1968 -0.069588 -0.323021 -0.945831\n",
       "4          2  1969 -0.056724 -0.358177 -1.143830\n",
       "...      ...   ...       ...       ...       ...\n",
       "1318     440  1969 -0.228757  0.031242 -0.246864\n",
       "1319     440  1970 -0.038354  0.062158 -0.345710\n",
       "1320     441  1968 -1.618390 -1.944210 -2.032340\n",
       "1321     441  1969 -1.635030 -1.856580 -2.011210\n",
       "1322     441  1970 -1.454890 -1.538940 -1.371550\n",
       "\n",
       "[1323 rows x 5 columns]"
      ]
     },
     "execution_count": 350,
     "metadata": {},
     "output_type": "execute_result"
    }
   ],
   "source": [
    "#Keep only 3 years \n",
    "\n",
    "dat = dat[(dat['year'] >= 1968) & (dat['year'] <= 1970)]\n",
    "dat=dat.reset_index(drop=True)\n",
    "dat"
   ]
  },
  {
   "cell_type": "code",
   "execution_count": 351,
   "metadata": {
    "tags": []
   },
   "outputs": [
    {
     "data": {
      "text/plain": [
       "(1323,)"
      ]
     },
     "execution_count": 351,
     "metadata": {},
     "output_type": "execute_result"
    }
   ],
   "source": [
    "dat.ldsa.values.shape"
   ]
  },
  {
   "cell_type": "code",
   "execution_count": 352,
   "metadata": {
    "tags": []
   },
   "outputs": [
    {
     "name": "stdout",
     "output_type": "stream",
     "text": [
      "Data has N=441 and T=3\n"
     ]
    }
   ],
   "source": [
    "N = dat.firmid.unique().size\n",
    "T = dat.year.unique().size\n",
    "assert dat.shape[0] == N*T, f'Error: data is not a balanced panel'\n",
    "print(f'Data has N={N} and T={T}')"
   ]
  },
  {
   "cell_type": "markdown",
   "metadata": {},
   "source": [
    "Extract data from `pandas` to `numpy` arrays. "
   ]
  },
  {
   "cell_type": "code",
   "execution_count": 353,
   "metadata": {
    "tags": []
   },
   "outputs": [],
   "source": [
    "y = dat.ldsa.values.reshape((N*T,1))\n",
    "\n",
    "ones = np.ones((N*T,1))\n",
    "l = dat.lemp.values.reshape((N*T,1))\n",
    "k = dat.lcap.values.reshape((N*T,1))\n",
    "x = np.hstack([l, k])"
   ]
  },
  {
   "cell_type": "code",
   "execution_count": 354,
   "metadata": {
    "tags": []
   },
   "outputs": [],
   "source": [
    "#Laver labels\n",
    "label_y = 'log Deflated sales'\n",
    "label_x = [\n",
    "    'log Employment', \n",
    "    'log Adjusted Capital Stock',  \n",
    "]"
   ]
  },
  {
   "cell_type": "code",
   "execution_count": 355,
   "metadata": {
    "tags": []
   },
   "outputs": [],
   "source": [
    "############################ FE-estimation ###################################\n",
    "###############################################################################"
   ]
  },
  {
   "cell_type": "code",
   "execution_count": 356,
   "metadata": {
    "tags": []
   },
   "outputs": [],
   "source": [
    "def remove_zero_columns(x, label_x):\n",
    "    \"\"\"\n",
    "    The function removes columns from a matrix that are all zeros and returns the updated matrix and\n",
    "    corresponding labels.\n",
    "    \n",
    "    Args:\n",
    "      x: The parameter `x` is a numpy array representing a matrix with columns that may contain zeros.\n",
    "      label_x: The parameter `label_x` is a list that contains the labels for each column in the input\n",
    "    array `x`.\n",
    "    \n",
    "    Returns:\n",
    "      x_nonzero: numpy array of x with columns that are all zeros removed.\n",
    "      label_nonzero: list of labels for each column in x_nonzero.\n",
    "    \"\"\"\n",
    "    \n",
    "    # Find the columns that are not all zeros\n",
    "    nonzero_cols = ~np.all(x == 0, axis=0)\n",
    "    \n",
    "    # Remove the columns that are all zeros\n",
    "    x_nonzero = x[:, nonzero_cols]\n",
    "    \n",
    "    # Get the labels for the columns that are not all zeros\n",
    "    label_nonzero = [label_x[i] for i in range(len(label_x)) if nonzero_cols[i]]\n",
    "    return x_nonzero, label_nonzero"
   ]
  },
  {
   "cell_type": "code",
   "execution_count": 357,
   "metadata": {
    "tags": []
   },
   "outputs": [
    {
     "name": "stdout",
     "output_type": "stream",
     "text": [
      "Demeaning matrix for T=3 \n",
      " [[ 0.66666667 -0.33333333 -0.33333333]\n",
      " [-0.33333333  0.66666667 -0.33333333]\n",
      " [-0.33333333 -0.33333333  0.66666667]]\n",
      "Fixed Effects\n",
      "Dependent variable: log Deflated sales\n",
      "\n",
      "                              Beta      Se    t-values\n",
      "--------------------------  ------  ------  ----------\n",
      "log Employment              0.6004  0.0346     17.3515\n",
      "log Adjusted Capital Stock  0.0502  0.0382      1.3143\n",
      "R² = 0.284\n",
      "σ² = 0.008\n"
     ]
    }
   ],
   "source": [
    "# Transform the data\n",
    "# Create transformation matrix\n",
    "def demeaning_matrix(T):\n",
    "    Q_T = np.eye(T) - np.tile(1/T, (T, T))\n",
    "    return Q_T\n",
    "# Print the matrix\n",
    "Q_T = demeaning_matrix(T)\n",
    "print(f'Demeaning matrix for T={T} \\n', Q_T)\n",
    "\n",
    "y_dot = lm.perm(Q_T, y)\n",
    "x_dot = lm.perm(Q_T, x)\n",
    "\n",
    "# Remove the columns that are only zeroes\n",
    "x_dot, label_x_dot = remove_zero_columns(x_dot, label_x)\n",
    "\n",
    "# Estimate \n",
    "fe_result = lm.estimate(y_dot, x_dot, transform='fe', T=T)\n",
    "lm.print_table((label_y, label_x_dot), fe_result, title=\"Fixed Effects\", floatfmt='.4f')"
   ]
  },
  {
   "cell_type": "code",
   "execution_count": 384,
   "metadata": {
    "tags": []
   },
   "outputs": [
    {
     "data": {
      "text/plain": [
       "array([[ 1.02740155e-31, -3.47762213e-32],\n",
       "       [-3.96574081e-32,  1.37052588e-32]])"
      ]
     },
     "execution_count": 384,
     "metadata": {},
     "output_type": "execute_result"
    }
   ],
   "source": [
    "b_hat_shape=fe_result['b_hat'].reshape(-1,1)\n",
    "\n",
    "fe_u=y_dot-x_dot@b_hat_shape\n",
    "\n",
    "x_dot_T = x_dot.T\n",
    "sum_part=x_dot_T@fe_u@fe_u.T@x_dot\n",
    "\n",
    "robust_var_re=np.linalg.inv(x_dot_T@x_dot)@sum_part@np.linalg.inv(x_dot_T@x_dot)\n",
    "\n",
    "robust_var_re"
   ]
  },
  {
   "cell_type": "code",
   "execution_count": 359,
   "metadata": {
    "tags": []
   },
   "outputs": [],
   "source": [
    "############################ FD-estimation ###################################\n",
    "###############################################################################"
   ]
  },
  {
   "cell_type": "code",
   "execution_count": 360,
   "metadata": {
    "tags": []
   },
   "outputs": [
    {
     "name": "stdout",
     "output_type": "stream",
     "text": [
      "First differening matrix for T=3 \n",
      " [[-1.  1.  0.]\n",
      " [ 0. -1.  1.]]\n",
      "First Difference\n",
      "Dependent variable: log Deflated sales\n",
      "\n",
      "                              Beta      Se    t-values\n",
      "--------------------------  ------  ------  ----------\n",
      "log Employment              0.5509  0.0365     15.0788\n",
      "log Adjusted Capital Stock  0.0381  0.0432      0.8816\n",
      "R² = 0.217\n",
      "σ² = 0.013\n"
     ]
    }
   ],
   "source": [
    "# Transform the data\n",
    "# Create transformation matrix\n",
    "def fd_matrix(T):\n",
    "    D_T = np.eye(T) - np.eye(T, k=-1)\n",
    "    D_T = D_T[1:]\n",
    "    return D_T\n",
    "\n",
    "# Print the matrix\n",
    "D_T = fd_matrix(T)\n",
    "print(f'First differening matrix for T={T} \\n', D_T)\n",
    "\n",
    "y_diff = lm.perm(D_T, y)\n",
    "x_diff = lm.perm(D_T, x)\n",
    "\n",
    "# Remove the columns that are only zeroes\n",
    "x_diff, label_x_diff = remove_zero_columns(x_diff, label_x)\n",
    "\n",
    "# Estimate \n",
    "fd_result = lm.estimate(y_diff, x_diff, transform='fd', T=T-1) \n",
    "lm.print_table((label_y, label_x_diff), fd_result, title=\"First Difference\", floatfmt='.4f')"
   ]
  },
  {
   "cell_type": "code",
   "execution_count": 361,
   "metadata": {
    "tags": []
   },
   "outputs": [],
   "source": [
    "############################ RE-estimation ###################################\n",
    "###############################################################################"
   ]
  },
  {
   "cell_type": "code",
   "execution_count": 362,
   "metadata": {
    "tags": []
   },
   "outputs": [
    {
     "name": "stdout",
     "output_type": "stream",
     "text": [
      "[[0.33333333 0.33333333 0.33333333]]\n",
      "Between Estimator\n",
      "Dependent variable: log Deflated sales\n",
      "\n",
      "                              Beta      Se    t-values\n",
      "--------------------------  ------  ------  ----------\n",
      "log Employment              0.6856  0.0333     20.5565\n",
      "log Adjusted Capital Stock  0.2778  0.0295      9.4042\n",
      "R² = 0.921\n",
      "σ² = 0.122\n"
     ]
    }
   ],
   "source": [
    "value = 1 / T\n",
    "P_T = np.full((T,1), value).reshape(1,-1)\n",
    "\n",
    "print(P_T) \n",
    "y_mean = lm.perm(P_T, y)\n",
    "x_mean = lm.perm(P_T, x)\n",
    "\n",
    "# Estimate \n",
    "be_result = lm.estimate(y_mean, x_mean, transform='be')\n",
    "lm.print_table((label_y, label_x), be_result, title=\"Between Estimator\", floatfmt='.4f')\n"
   ]
  },
  {
   "cell_type": "code",
   "execution_count": 363,
   "metadata": {
    "tags": []
   },
   "outputs": [
    {
     "name": "stdout",
     "output_type": "stream",
     "text": [
      "Lambda is approximately equal to 0.8509.\n"
     ]
    }
   ],
   "source": [
    "# Calculate lambda (note lambda is a reserved keyword in Python, so we use _lambda instead)\n",
    "sigma2_u = fe_result['sigma2']\n",
    "sigma2_w = be_result['sigma2']\n",
    "sigma2_c = sigma2_w - (1/T*sigma2_u)\n",
    "_lambda = 1-np.sqrt(sigma2_u/(sigma2_u+T*sigma2_c))\n",
    "\n",
    "# Print lambda \n",
    "print(f'Lambda is approximately equal to {_lambda.item():.4f}.')"
   ]
  },
  {
   "cell_type": "code",
   "execution_count": 364,
   "metadata": {
    "tags": []
   },
   "outputs": [
    {
     "name": "stdout",
     "output_type": "stream",
     "text": [
      "Random Effects\n",
      "Dependent variable: log Deflated sales\n",
      "\n",
      "                              Beta      Se    t-values\n",
      "--------------------------  ------  ------  ----------\n",
      "log Employment              0.6912  0.0235     29.4669\n",
      "log Adjusted Capital Stock  0.2477  0.0214     11.6004\n",
      "R² = 0.797\n",
      "σ² = 0.008\n"
     ]
    }
   ],
   "source": [
    "# Transform the data\n",
    "C_T = np.identity(T)-_lambda*P_T\n",
    "y_re = lm.perm(C_T, y)\n",
    "x_re = lm.perm(C_T, x)\n",
    "\n",
    "# Estimate \n",
    "re_result = lm.estimate(y_re, x_re, transform='re', T=T)\n",
    "lm.print_table((label_y, label_x), re_result, title=\"Random Effects\", floatfmt='.4f')"
   ]
  },
  {
   "cell_type": "code",
   "execution_count": 365,
   "metadata": {},
   "outputs": [],
   "source": [
    "####################  WALD TEST #########################\n",
    "###### for derterming if the joined hyphotesis hold #####\n",
    "#########################################################"
   ]
  },
  {
   "cell_type": "code",
   "execution_count": 366,
   "metadata": {
    "tags": []
   },
   "outputs": [],
   "source": [
    "R=np.array([1,1]).reshape(1,-1)\n",
    "r=np.array([1]).reshape(1,-1)"
   ]
  },
  {
   "cell_type": "code",
   "execution_count": 367,
   "metadata": {
    "tags": []
   },
   "outputs": [
    {
     "data": {
      "text/plain": [
       "(2, 1)"
      ]
     },
     "execution_count": 367,
     "metadata": {},
     "output_type": "execute_result"
    }
   ],
   "source": [
    "varb_fe=fe_result['cov']\n",
    "varb_fe.shape\n",
    "\n",
    "b_hat_fe=fe_result['b_hat']\n",
    "b_hat_fe.shape\n",
    "\n",
    "varb_fd=fd_result['cov']\n",
    "varb_fd.shape\n",
    "\n",
    "b_hat_fd=fd_result['b_hat']\n",
    "b_hat_fd.shape\n",
    "\n",
    "varb_re=re_result['cov']\n",
    "varb_re.shape\n",
    "\n",
    "b_hat_re=re_result['b_hat']\n",
    "b_hat_re.shape"
   ]
  },
  {
   "cell_type": "code",
   "execution_count": 368,
   "metadata": {
    "tags": []
   },
   "outputs": [
    {
     "name": "stdout",
     "output_type": "stream",
     "text": [
      "[[66.06939843]] [[66.06273481]] [[21.95818802]]\n"
     ]
    }
   ],
   "source": [
    "######### Implementing the Wald-test for the three estiamtors ##########\n",
    "\n",
    "W_fe=(R@b_hat_fe-r).T@np.linalg.inv(R@varb_fe@(R.T))@(R@b_hat_fe-r)\n",
    "W_fd=(R@b_hat_fd-r).T@np.linalg.inv(R@varb_fd@(R.T))@(R@b_hat_fd-r)\n",
    "W_re=(R@b_hat_re-r).T@np.linalg.inv(R@varb_re@(R.T))@(R@b_hat_re-r)\n",
    "\n",
    "print(W_fe, W_fd, W_re)"
   ]
  },
  {
   "cell_type": "code",
   "execution_count": 369,
   "metadata": {
    "tags": []
   },
   "outputs": [],
   "source": [
    "#################### TEST FOR FE.1 ######################\n",
    "########### Are the delta(u_it)'s correlated? ##################\n",
    "#########################################################"
   ]
  },
  {
   "cell_type": "code",
   "execution_count": 370,
   "metadata": {
    "tags": []
   },
   "outputs": [],
   "source": [
    "# Make function to calculate the serial correlation\n",
    "def serial_corr(y, x, T):\n",
    "    # Calculate the residuals\n",
    "    b_hat = lm.est_ols(y, x)\n",
    "    e = y - x@b_hat\n",
    "    \n",
    "    # Create a lag transformation matrix\n",
    "    L_T = np.eye(T, k=-1)\n",
    "    L_T = L_T[1:]\n",
    "\n",
    "    # Lag residuals\n",
    "    e_l = lm.perm(L_T, e)\n",
    "\n",
    "    # Create a transformation matrix that removes the first observation of each individal\n",
    "    I_T = np.eye(T, k=0)\n",
    "    I_T = I_T[1:]\n",
    "    \n",
    "    # Remove first observation of each individual\n",
    "    e = lm.perm(I_T, e)\n",
    "    \n",
    "    # Calculate the serial correlation\n",
    "    return lm.estimate(e, e_l,T=T-1)"
   ]
  },
  {
   "cell_type": "code",
   "execution_count": 371,
   "metadata": {
    "tags": []
   },
   "outputs": [
    {
     "name": "stdout",
     "output_type": "stream",
     "text": [
      "Serial Correlation\n",
      "Dependent variable: OLS residual, eᵢₜ\n",
      "\n",
      "          Beta      Se    t-values\n",
      "-----  -------  ------  ----------\n",
      "eᵢₜ₋₁  -0.1849  0.0483     -3.8295\n",
      "R² = 0.032\n",
      "σ² = 0.013\n"
     ]
    }
   ],
   "source": [
    "# Estimate serial correlation\n",
    "corr_result = serial_corr(y_diff, x_diff, T-1)\n",
    "\n",
    "# Print results\n",
    "label_ye = 'OLS residual, e\\u1d62\\u209c'\n",
    "label_e = ['e\\u1d62\\u209c\\u208B\\u2081']\n",
    "lm.print_table(\n",
    "    (label_ye, label_e), corr_result, \n",
    "    title='Serial Correlation', floatfmt='.4f'\n",
    ")"
   ]
  },
  {
   "cell_type": "code",
   "execution_count": 372,
   "metadata": {
    "tags": []
   },
   "outputs": [],
   "source": [
    "#################### TEST FOR FE.3 ######################\n",
    "############# strict exogeneity  ########################\n",
    "#########################################################"
   ]
  },
  {
   "cell_type": "code",
   "execution_count": 373,
   "metadata": {
    "tags": []
   },
   "outputs": [
    {
     "name": "stdout",
     "output_type": "stream",
     "text": [
      "(1323, 2)\n"
     ]
    },
    {
     "data": {
      "text/plain": [
       "array([[ 0.00734733,  0.0641244 ],\n",
       "       [ 0.00825433, -0.0092634 ],\n",
       "       [-0.01560167, -0.054861  ],\n",
       "       ...,\n",
       "       [-0.1643    , -0.04895333],\n",
       "       [-0.07667   , -0.06559333],\n",
       "       [ 0.24097   ,  0.11454667]])"
      ]
     },
     "execution_count": 373,
     "metadata": {},
     "output_type": "execute_result"
    }
   ],
   "source": [
    "######### First adding leaded variables of labour and capital to x ##########\n",
    "print(x_dot.shape)\n",
    "x_dot"
   ]
  },
  {
   "cell_type": "code",
   "execution_count": 374,
   "metadata": {
    "tags": []
   },
   "outputs": [
    {
     "data": {
      "text/plain": [
       "(882, 4)"
      ]
     },
     "execution_count": 374,
     "metadata": {},
     "output_type": "execute_result"
    }
   ],
   "source": [
    "# Lead labour and capital \n",
    "F_T = np.eye(T, k=1)\n",
    "F_T = F_T[:-1]\n",
    "\n",
    "labour_lead = lm.perm(F_T, x[:, 0].reshape(-1, 1))\n",
    "capital_lead = lm.perm(F_T, x[:, 1].reshape(-1, 1))\n",
    "\n",
    "# Remove the last observed year for every individial\n",
    "I_T = np.eye(T, k=0)\n",
    "I_T = I_T[:-1]\n",
    "\n",
    "x_exo = lm.perm(I_T, x)\n",
    "y_exo = lm.perm(I_T, y)\n",
    "\n",
    "# Add leaded to x_exo\n",
    "x_exo = np.hstack((x_exo, labour_lead, capital_lead))\n",
    "\n",
    "x_exo.shape"
   ]
  },
  {
   "cell_type": "code",
   "execution_count": 375,
   "metadata": {
    "tags": []
   },
   "outputs": [
    {
     "data": {
      "text/plain": [
       "array([[-0.0004535 ,  0.0366939 ,  0.011928  ,  0.0227988 ],\n",
       "       [ 0.0004535 , -0.0366939 , -0.011928  , -0.0227988 ],\n",
       "       [ 0.017578  , -0.0064321 ,  0.0241675 , -0.0120218 ],\n",
       "       ...,\n",
       "       [-0.01765535,  0.015343  ,  0.01545775,  0.0952014 ],\n",
       "       [-0.043815  ,  0.00832   , -0.15882   , -0.09007   ],\n",
       "       [ 0.043815  , -0.00832   ,  0.15882   ,  0.09007   ]])"
      ]
     },
     "execution_count": 375,
     "metadata": {},
     "output_type": "execute_result"
    }
   ],
   "source": [
    "# Within transform the data\n",
    "Q_T = demeaning_matrix(T - 1)\n",
    "yw_exo = lm.perm(Q_T, y_exo)\n",
    "xw_exo = lm.perm(Q_T, x_exo)\n",
    "\n",
    "xw_exo"
   ]
  },
  {
   "cell_type": "code",
   "execution_count": 376,
   "metadata": {
    "tags": []
   },
   "outputs": [
    {
     "name": "stdout",
     "output_type": "stream",
     "text": [
      "Exogeneity test\n",
      "Dependent variable: log Deflated sales\n",
      "\n",
      "                              Beta      Se    t-values\n",
      "--------------------------  ------  ------  ----------\n",
      "log Employment              0.4599  0.0550      8.3615\n",
      "log Adjusted Capital Stock  0.0580  0.0674      0.8617\n",
      "Labour lead                 0.1552  0.0504      3.0768\n",
      "Capital lead                0.0656  0.0702      0.9342\n",
      "R² = 0.221\n",
      "σ² = 0.006\n"
     ]
    }
   ],
   "source": [
    "# Estimate model\n",
    "exo_test = lm.estimate(yw_exo, xw_exo, T=T - 1, transform='fe')\n",
    "\n",
    "# Print results\n",
    "label_exo = label_x + ['Labour lead'] + ['Capital lead']\n",
    "lm.print_table((label_y, label_exo), exo_test, title='Exogeneity test', floatfmt='.4f')"
   ]
  },
  {
   "cell_type": "code",
   "execution_count": 377,
   "metadata": {
    "tags": []
   },
   "outputs": [
    {
     "data": {
      "text/plain": [
       "array([[-0.241278 ,  0.9252139, -0.242185 ,  0.9986017],\n",
       "       [-0.265134 ,  0.8796163, -0.241278 ,  0.9252139],\n",
       "       [-0.358177 , -0.0567239, -0.323021 , -0.0695881],\n",
       "       ...,\n",
       "       [ 0.0621576, -0.0383542,  0.0312421, -0.228757 ],\n",
       "       [-1.85658  , -1.63503  , -1.94421  , -1.61839  ],\n",
       "       [-1.53894  , -1.45489  , -1.85658  , -1.63503  ]])"
      ]
     },
     "execution_count": 377,
     "metadata": {},
     "output_type": "execute_result"
    }
   ],
   "source": [
    "######### Adding lagged variables of labour and capital to x ##########\n",
    "L_T = np.eye(T, k=-1)\n",
    "L_T = L_T[1:]\n",
    "\n",
    "labour_lag = lm.perm(L_T, x[:, 0].reshape(-1, 1))\n",
    "capital_lag = lm.perm(L_T, x[:, 1].reshape(-1, 1))\n",
    "\n",
    "# Remove the first observed year for every individial\n",
    "I_T = np.eye(T, k=0)\n",
    "I_T = I_T[1:]\n",
    "\n",
    "x_exo2 = lm.perm(I_T, x)\n",
    "y_exo2 = lm.perm(I_T, y)\n",
    "\n",
    "# Add leaded to x_exo\n",
    "x_exo2 = np.hstack((x_exo2, labour_lag, capital_lag))\n",
    "\n",
    "x_exo2"
   ]
  },
  {
   "cell_type": "code",
   "execution_count": 378,
   "metadata": {
    "tags": []
   },
   "outputs": [],
   "source": [
    "# Within transform the data\n",
    "Q_T = demeaning_matrix(T - 1)\n",
    "yw_exo2 = lm.perm(Q_T, y_exo2)\n",
    "xw_exo2 = lm.perm(Q_T, x_exo2)"
   ]
  },
  {
   "cell_type": "code",
   "execution_count": 379,
   "metadata": {
    "tags": []
   },
   "outputs": [
    {
     "name": "stdout",
     "output_type": "stream",
     "text": [
      "Exogeneity test\n",
      "Dependent variable: log Deflated sales\n",
      "\n",
      "                               Beta      Se    t-values\n",
      "--------------------------  -------  ------  ----------\n",
      "log Employment               0.5920  0.0522     11.3387\n",
      "log Adjusted Capital Stock  -0.1270  0.0727     -1.7481\n",
      "Labour lag                   0.1057  0.0569      1.8563\n",
      "Capital lag                  0.1248  0.0697      1.7904\n",
      "R² = 0.248\n",
      "σ² = 0.007\n"
     ]
    }
   ],
   "source": [
    "# Estimate model\n",
    "exo_test = lm.estimate(yw_exo2, xw_exo2, T=T - 1, transform='fe')\n",
    "\n",
    "# Print results\n",
    "label_exo = label_x + ['Labour lag'] + ['Capital lag']\n",
    "lm.print_table((label_y, label_exo), exo_test, title='Exogeneity test', floatfmt='.4f')"
   ]
  },
  {
   "cell_type": "code",
   "execution_count": 380,
   "metadata": {
    "tags": []
   },
   "outputs": [],
   "source": [
    "#################### The Hausmann test ######################\n",
    "#############  Comparing FE and RE ##########################\n",
    "#############################################################"
   ]
  },
  {
   "cell_type": "code",
   "execution_count": 381,
   "metadata": {
    "tags": []
   },
   "outputs": [
    {
     "name": "stdout",
     "output_type": "stream",
     "text": [
      "The test statistic is 50.88.\n",
      "The critical value at a 5% significance level is 9.49.\n",
      "The p-value is 0.00000000.\n"
     ]
    }
   ],
   "source": [
    "# Calculate the test statistic\n",
    "b_diff = b_hat_fe-b_hat_re\n",
    "cov_diff = varb_fe-varb_re\n",
    "H = b_diff.T@la.inv(cov_diff)@b_diff\n",
    "\n",
    "# Find critical value and p-value at 5% significance level of chi^2 with M degrees of freedom\n",
    "M = 4\n",
    "\n",
    "import scipy.stats as stats\n",
    "crit_val = stats.chi2.ppf(1-0.05, df=M)\n",
    "p_val = 1-stats.chi2.cdf(H.item(), df=M)\n",
    "\n",
    "# Print the results\n",
    "print(f'The test statistic is {H.item():.2f}.')\n",
    "print(f'The critical value at a 5% significance level is {crit_val:.2f}.')\n",
    "print(f'The p-value is {p_val:.8f}.')"
   ]
  }
 ],
 "metadata": {
  "kernelspec": {
   "display_name": "Python 3 (ipykernel)",
   "language": "python",
   "name": "python3"
  },
  "language_info": {
   "codemirror_mode": {
    "name": "ipython",
    "version": 3
   },
   "file_extension": ".py",
   "mimetype": "text/x-python",
   "name": "python",
   "nbconvert_exporter": "python",
   "pygments_lexer": "ipython3",
   "version": "3.11.3"
  },
  "vscode": {
   "interpreter": {
    "hash": "ef42839c56fd8bee084dafb278faf4416bb17c87278e59e0e4bb5f7c8f27c505"
   }
  }
 },
 "nbformat": 4,
 "nbformat_minor": 4
}
