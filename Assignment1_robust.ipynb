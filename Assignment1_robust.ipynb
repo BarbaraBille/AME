{
 "cells": [
  {
   "cell_type": "markdown",
   "metadata": {},
   "source": [
    "# Production Technology\n",
    "\n",
    "The dataset contains `N = 441` firms observed over `T = 12` years, 1968-1979. There variables are: \n",
    "* `lcap`: Log of capital stock, $k_{it}$ \n",
    "* `lemp`: log of employment, $\\ell_{it}$ \n",
    "* `ldsa`: log of deflated sales, $y_{it}$\n",
    "* `year`: the calendar year of the observation, `year` $ = 1968, ..., 1979$, \n",
    "* `firmid`: anonymized indicator variable for the firm, $i = 1, ..., N$, with $N=441$. "
   ]
  },
  {
   "cell_type": "code",
   "execution_count": 43,
   "metadata": {
    "tags": []
   },
   "outputs": [
    {
     "name": "stdout",
     "output_type": "stream",
     "text": [
      "The autoreload extension is already loaded. To reload it, use:\n",
      "  %reload_ext autoreload\n"
     ]
    }
   ],
   "source": [
    "import numpy as np\n",
    "from numpy import linalg as la\n",
    "import pandas as pd\n",
    "from io import StringIO\n",
    "from tabulate import tabulate\n",
    "from matplotlib import pyplot as plt\n",
    "import seaborn as sns\n",
    "\n",
    "# Import this weeks LinearModels .py file\n",
    "import LinearDynamic_ante as lm\n",
    "%load_ext autoreload\n",
    "%autoreload 2"
   ]
  },
  {
   "cell_type": "code",
   "execution_count": 44,
   "metadata": {
    "tags": []
   },
   "outputs": [],
   "source": [
    "dat = pd.read_csv('firms.csv')"
   ]
  },
  {
   "cell_type": "markdown",
   "metadata": {},
   "source": [
    "# Converting data to numpy format and making variables"
   ]
  },
  {
   "cell_type": "code",
   "execution_count": 75,
   "metadata": {
    "tags": []
   },
   "outputs": [
    {
     "data": {
      "text/html": [
       "<div>\n",
       "<style scoped>\n",
       "    .dataframe tbody tr th:only-of-type {\n",
       "        vertical-align: middle;\n",
       "    }\n",
       "\n",
       "    .dataframe tbody tr th {\n",
       "        vertical-align: top;\n",
       "    }\n",
       "\n",
       "    .dataframe thead th {\n",
       "        text-align: right;\n",
       "    }\n",
       "</style>\n",
       "<table border=\"1\" class=\"dataframe\">\n",
       "  <thead>\n",
       "    <tr style=\"text-align: right;\">\n",
       "      <th></th>\n",
       "      <th>firmid</th>\n",
       "      <th>year</th>\n",
       "      <th>lcap</th>\n",
       "      <th>lemp</th>\n",
       "      <th>ldsa</th>\n",
       "    </tr>\n",
       "  </thead>\n",
       "  <tbody>\n",
       "    <tr>\n",
       "      <th>0</th>\n",
       "      <td>1</td>\n",
       "      <td>1968</td>\n",
       "      <td>0.998602</td>\n",
       "      <td>-0.242185</td>\n",
       "      <td>0.349053</td>\n",
       "    </tr>\n",
       "    <tr>\n",
       "      <th>1</th>\n",
       "      <td>1</td>\n",
       "      <td>1969</td>\n",
       "      <td>0.925214</td>\n",
       "      <td>-0.241278</td>\n",
       "      <td>0.312492</td>\n",
       "    </tr>\n",
       "    <tr>\n",
       "      <th>2</th>\n",
       "      <td>1</td>\n",
       "      <td>1970</td>\n",
       "      <td>0.879616</td>\n",
       "      <td>-0.265134</td>\n",
       "      <td>0.347566</td>\n",
       "    </tr>\n",
       "    <tr>\n",
       "      <th>3</th>\n",
       "      <td>2</td>\n",
       "      <td>1968</td>\n",
       "      <td>-0.069588</td>\n",
       "      <td>-0.323021</td>\n",
       "      <td>-0.945831</td>\n",
       "    </tr>\n",
       "    <tr>\n",
       "      <th>4</th>\n",
       "      <td>2</td>\n",
       "      <td>1969</td>\n",
       "      <td>-0.056724</td>\n",
       "      <td>-0.358177</td>\n",
       "      <td>-1.143830</td>\n",
       "    </tr>\n",
       "    <tr>\n",
       "      <th>...</th>\n",
       "      <td>...</td>\n",
       "      <td>...</td>\n",
       "      <td>...</td>\n",
       "      <td>...</td>\n",
       "      <td>...</td>\n",
       "    </tr>\n",
       "    <tr>\n",
       "      <th>1318</th>\n",
       "      <td>440</td>\n",
       "      <td>1969</td>\n",
       "      <td>-0.228757</td>\n",
       "      <td>0.031242</td>\n",
       "      <td>-0.246864</td>\n",
       "    </tr>\n",
       "    <tr>\n",
       "      <th>1319</th>\n",
       "      <td>440</td>\n",
       "      <td>1970</td>\n",
       "      <td>-0.038354</td>\n",
       "      <td>0.062158</td>\n",
       "      <td>-0.345710</td>\n",
       "    </tr>\n",
       "    <tr>\n",
       "      <th>1320</th>\n",
       "      <td>441</td>\n",
       "      <td>1968</td>\n",
       "      <td>-1.618390</td>\n",
       "      <td>-1.944210</td>\n",
       "      <td>-2.032340</td>\n",
       "    </tr>\n",
       "    <tr>\n",
       "      <th>1321</th>\n",
       "      <td>441</td>\n",
       "      <td>1969</td>\n",
       "      <td>-1.635030</td>\n",
       "      <td>-1.856580</td>\n",
       "      <td>-2.011210</td>\n",
       "    </tr>\n",
       "    <tr>\n",
       "      <th>1322</th>\n",
       "      <td>441</td>\n",
       "      <td>1970</td>\n",
       "      <td>-1.454890</td>\n",
       "      <td>-1.538940</td>\n",
       "      <td>-1.371550</td>\n",
       "    </tr>\n",
       "  </tbody>\n",
       "</table>\n",
       "<p>1323 rows × 5 columns</p>\n",
       "</div>"
      ],
      "text/plain": [
       "      firmid  year      lcap      lemp      ldsa\n",
       "0          1  1968  0.998602 -0.242185  0.349053\n",
       "1          1  1969  0.925214 -0.241278  0.312492\n",
       "2          1  1970  0.879616 -0.265134  0.347566\n",
       "3          2  1968 -0.069588 -0.323021 -0.945831\n",
       "4          2  1969 -0.056724 -0.358177 -1.143830\n",
       "...      ...   ...       ...       ...       ...\n",
       "1318     440  1969 -0.228757  0.031242 -0.246864\n",
       "1319     440  1970 -0.038354  0.062158 -0.345710\n",
       "1320     441  1968 -1.618390 -1.944210 -2.032340\n",
       "1321     441  1969 -1.635030 -1.856580 -2.011210\n",
       "1322     441  1970 -1.454890 -1.538940 -1.371550\n",
       "\n",
       "[1323 rows x 5 columns]"
      ]
     },
     "execution_count": 75,
     "metadata": {},
     "output_type": "execute_result"
    }
   ],
   "source": [
    "#Keep only 3 years \n",
    "\n",
    "dat = dat[(dat['year'] >= 1968) & (dat['year'] <= 1970)]\n",
    "dat=dat.reset_index(drop=True)\n",
    "dat"
   ]
  },
  {
   "cell_type": "code",
   "execution_count": 76,
   "metadata": {
    "tags": []
   },
   "outputs": [
    {
     "data": {
      "text/plain": [
       "(1323,)"
      ]
     },
     "execution_count": 76,
     "metadata": {},
     "output_type": "execute_result"
    }
   ],
   "source": [
    "dat.ldsa.values.shape"
   ]
  },
  {
   "cell_type": "code",
   "execution_count": 77,
   "metadata": {
    "tags": []
   },
   "outputs": [
    {
     "name": "stdout",
     "output_type": "stream",
     "text": [
      "Data has N=441 and T=3\n"
     ]
    }
   ],
   "source": [
    "N = dat.firmid.unique().size\n",
    "T = dat.year.unique().size\n",
    "assert dat.shape[0] == N*T, f'Error: data is not a balanced panel'\n",
    "print(f'Data has N={N} and T={T}')"
   ]
  },
  {
   "cell_type": "markdown",
   "metadata": {},
   "source": [
    "Extract data from `pandas` to `numpy` arrays. "
   ]
  },
  {
   "cell_type": "code",
   "execution_count": 78,
   "metadata": {
    "tags": []
   },
   "outputs": [],
   "source": [
    "y = dat.ldsa.values.reshape((N*T,1))\n",
    "\n",
    "ones = np.ones((N*T,1))\n",
    "l = dat.lemp.values.reshape((N*T,1))\n",
    "k = dat.lcap.values.reshape((N*T,1))\n",
    "x = np.hstack([ones, l, k])"
   ]
  },
  {
   "cell_type": "code",
   "execution_count": 79,
   "metadata": {
    "tags": []
   },
   "outputs": [],
   "source": [
    "#Laver labels\n",
    "label_y = 'log Deflated sales'\n",
    "label_x = [\n",
    "    'log constant',\n",
    "    'log Employment', \n",
    "    'log Adjusted Capital Stock',  \n",
    "]"
   ]
  },
  {
   "cell_type": "markdown",
   "metadata": {
    "tags": []
   },
   "source": [
    "## Creating function to remove zero columns"
   ]
  },
  {
   "cell_type": "code",
   "execution_count": 80,
   "metadata": {
    "tags": []
   },
   "outputs": [],
   "source": [
    "def remove_zero_columns(x, label_x):\n",
    "    \"\"\"\n",
    "    The function removes columns from a matrix that are all zeros and returns the updated matrix and\n",
    "    corresponding labels.\n",
    "    \n",
    "    Args:\n",
    "      x: The parameter `x` is a numpy array representing a matrix with columns that may contain zeros.\n",
    "      label_x: The parameter `label_x` is a list that contains the labels for each column in the input\n",
    "    array `x`.\n",
    "    \n",
    "    Returns:\n",
    "      x_nonzero: numpy array of x with columns that are all zeros removed.\n",
    "      label_nonzero: list of labels for each column in x_nonzero.\n",
    "    \"\"\"\n",
    "    \n",
    "    # Find the columns that are not all zeros\n",
    "    nonzero_cols = ~np.all(x == 0, axis=0)\n",
    "    \n",
    "    # Remove the columns that are all zeros\n",
    "    x_nonzero = x[:, nonzero_cols]\n",
    "    \n",
    "    # Get the labels for the columns that are not all zeros\n",
    "    label_nonzero = [label_x[i] for i in range(len(label_x)) if nonzero_cols[i]]\n",
    "    return x_nonzero, label_nonzero"
   ]
  },
  {
   "cell_type": "markdown",
   "metadata": {
    "tags": []
   },
   "source": [
    "# The FE-estimator"
   ]
  },
  {
   "cell_type": "code",
   "execution_count": 81,
   "metadata": {
    "tags": []
   },
   "outputs": [],
   "source": [
    "def demeaning_matrix(T):\n",
    "    Q_T = np.eye(T) - np.tile(1/T, (T, T))\n",
    "    return Q_T"
   ]
  },
  {
   "cell_type": "code",
   "execution_count": 82,
   "metadata": {
    "tags": []
   },
   "outputs": [
    {
     "name": "stdout",
     "output_type": "stream",
     "text": [
      "Fixed Effects\n",
      "Dependent variable: log Deflated sales\n",
      "\n",
      "                              Beta      Se    t-values\n",
      "--------------------------  ------  ------  ----------\n",
      "log Employment              0.6004  0.0497     12.0916\n",
      "log Adjusted Capital Stock  0.0502  0.0477      1.0533\n",
      "R² = 0.284\n",
      "σ² = 0.008\n"
     ]
    }
   ],
   "source": [
    "# Transform the data\n",
    "Q_T = demeaning_matrix(T)\n",
    "\n",
    "y_dot = lm.perm(Q_T, y)\n",
    "x_dot = lm.perm(Q_T, x)[:,1:3]\n",
    "\n",
    "label_x_dt=[\n",
    "    'log Employment', \n",
    "    'log Adjusted Capital Stock',  \n",
    "]\n",
    "# Remove the columns that are only zeroes\n",
    "#x_dot, label_x_dot = remove_zero_columns(x_dot, label_x)\n",
    "\n",
    "# Estimate \n",
    "fe_result = lm.estimate(y_dot, x_dot, z=None, transform='fe', T=T, robust_se=True)\n",
    "lm.print_table((label_y, label_x_dt), fe_result, title=\"Fixed Effects\", floatfmt='.4f')"
   ]
  },
  {
   "cell_type": "markdown",
   "metadata": {
    "tags": []
   },
   "source": [
    "# The FD-estimator"
   ]
  },
  {
   "cell_type": "code",
   "execution_count": 83,
   "metadata": {
    "tags": []
   },
   "outputs": [
    {
     "name": "stdout",
     "output_type": "stream",
     "text": [
      "First differening matrix for T=3 \n",
      " [[-1.  1.  0.]\n",
      " [ 0. -1.  1.]]\n",
      "First Difference\n",
      "Dependent variable: log Deflated sales\n",
      "\n",
      "                              Beta      Se    t-values\n",
      "--------------------------  ------  ------  ----------\n",
      "log Employment              0.5509  0.0497     11.0762\n",
      "log Adjusted Capital Stock  0.0381  0.0458      0.8329\n",
      "R² = 0.217\n",
      "σ² = 0.013\n"
     ]
    }
   ],
   "source": [
    "# Transform the data\n",
    "# Create transformation matrix\n",
    "def fd_matrix(T):\n",
    "    D_T = np.eye(T) - np.eye(T, k=-1)\n",
    "    D_T = D_T[1:]\n",
    "    return D_T\n",
    "\n",
    "# Print the matrix\n",
    "D_T = fd_matrix(T)\n",
    "print(f'First differening matrix for T={T} \\n', D_T)\n",
    "\n",
    "y_diff = lm.perm(D_T, y)\n",
    "x_diff = lm.perm(D_T, x)\n",
    "\n",
    "# Remove the columns that are only zeroes\n",
    "x_diff, label_x_diff = remove_zero_columns(x_diff, label_x)\n",
    "\n",
    "# Estimate \n",
    "fd_result = lm.estimate(y_diff, x_diff, z=None, transform='fd', T=T-1, robust_se=True) \n",
    "lm.print_table((label_y, label_x_diff), fd_result, title=\"First Difference\", floatfmt='.4f')"
   ]
  },
  {
   "cell_type": "markdown",
   "metadata": {
    "tags": []
   },
   "source": [
    "# The RE-estimator"
   ]
  },
  {
   "cell_type": "code",
   "execution_count": 84,
   "metadata": {
    "tags": []
   },
   "outputs": [
    {
     "name": "stdout",
     "output_type": "stream",
     "text": [
      "Between Estimator\n",
      "Dependent variable: log Deflated sales\n",
      "\n",
      "                              Beta      Se    t-values\n",
      "--------------------------  ------  ------  ----------\n",
      "log constant                0.0000  0.0171      0.0000\n",
      "log Employment              0.6856  0.0370     18.5500\n",
      "log Adjusted Capital Stock  0.2778  0.0320      8.6919\n",
      "R² = 0.921\n",
      "σ² = 0.122\n"
     ]
    }
   ],
   "source": [
    "value = 1 / T\n",
    "P_T = np.full((T,1), value).reshape(1,-1)\n",
    " \n",
    "y_mean = lm.perm(P_T, y)\n",
    "x_mean = lm.perm(P_T, x)\n",
    "\n",
    "# Estimate \n",
    "be_result = lm.estimate(y_mean, x_mean, z=None, transform='be', T=T, robust_se=True) \n",
    "\n",
    "lm.print_table((label_y, label_x), be_result, title=\"Between Estimator\", floatfmt='.4f')\n"
   ]
  },
  {
   "cell_type": "code",
   "execution_count": 85,
   "metadata": {
    "tags": []
   },
   "outputs": [
    {
     "name": "stdout",
     "output_type": "stream",
     "text": [
      "Lambda is approximately equal to 0.8511.\n"
     ]
    }
   ],
   "source": [
    "# Calculate lambda (note lambda is a reserved keyword in Python, so we use _lambda instead)\n",
    "sigma2_u = fe_result['sigma2']\n",
    "sigma2_w = be_result['sigma2']\n",
    "sigma2_c = sigma2_w - (1/T*sigma2_u)\n",
    "_lambda = 1-np.sqrt(sigma2_u/(sigma2_u+T*sigma2_c))\n",
    "\n",
    "# Print lambda \n",
    "print(f'Lambda is approximately equal to {_lambda.item():.4f}.')"
   ]
  },
  {
   "cell_type": "code",
   "execution_count": 86,
   "metadata": {
    "tags": []
   },
   "outputs": [
    {
     "name": "stdout",
     "output_type": "stream",
     "text": [
      "Random Effects\n",
      "Dependent variable: log Deflated sales\n",
      "\n",
      "                              Beta      Se    t-values\n",
      "--------------------------  ------  ------  ----------\n",
      "log constant                0.0000  0.0167      0.0000\n",
      "log Employment              0.6912  0.0303     22.8178\n",
      "log Adjusted Capital Stock  0.2476  0.0261      9.4722\n",
      "R² = 0.797\n",
      "σ² = 0.008\n"
     ]
    }
   ],
   "source": [
    "# Transform the data\n",
    "C_T = np.identity(T)-_lambda*P_T\n",
    "y_re = lm.perm(C_T, y)\n",
    "x_re = lm.perm(C_T, x)\n",
    "\n",
    "# Estimate \n",
    "re_result = lm.estimate(y_re, x_re, z=None, transform='re', T=T, robust_se=True)\n",
    "\n",
    "lm.print_table((label_y, label_x), re_result, title=\"Random Effects\", floatfmt='.4f')"
   ]
  },
  {
   "cell_type": "markdown",
   "metadata": {
    "tags": []
   },
   "source": [
    "# WALD TEST \n",
    "## for derterming if the joined hyphotesis hold "
   ]
  },
  {
   "cell_type": "code",
   "execution_count": 87,
   "metadata": {
    "tags": []
   },
   "outputs": [],
   "source": [
    "R_fe=np.array([1,1]).reshape(1,-1)\n",
    "r_fe=np.array([1]).reshape(1,-1)\n",
    "\n",
    "R_re=np.array([0,1,1]).reshape(1,-1)\n",
    "r_re=np.array([1]).reshape(1,-1)"
   ]
  },
  {
   "cell_type": "code",
   "execution_count": 88,
   "metadata": {
    "tags": []
   },
   "outputs": [
    {
     "data": {
      "text/plain": [
       "(3, 1)"
      ]
     },
     "execution_count": 88,
     "metadata": {},
     "output_type": "execute_result"
    }
   ],
   "source": [
    "varb_fe=fe_result['cov']\n",
    "varb_fe.shape\n",
    "\n",
    "b_hat_fe=fe_result['b_hat']\n",
    "b_hat_fe.shape\n",
    "\n",
    "varb_re=re_result['cov']\n",
    "varb_re.shape\n",
    "\n",
    "b_hat_re=re_result['b_hat']\n",
    "b_hat_re.shape"
   ]
  },
  {
   "cell_type": "code",
   "execution_count": 89,
   "metadata": {
    "tags": []
   },
   "outputs": [
    {
     "name": "stdout",
     "output_type": "stream",
     "text": [
      "[[38.64345266]] [[22.51375093]]\n"
     ]
    }
   ],
   "source": [
    "######### Implementing the Wald-test for the two estiamtors ##########\n",
    "\n",
    "W_fe=(R_fe@b_hat_fe-r_fe).T@np.linalg.inv(R_fe@varb_fe@(R_fe.T))@(R_fe@b_hat_fe-r_fe)\n",
    "W_re=(R_re@b_hat_re-r_re).T@np.linalg.inv(R_re@varb_re@(R_re.T))@(R_re@b_hat_re-r_re)\n",
    "\n",
    "print(W_fe, W_re)"
   ]
  },
  {
   "cell_type": "markdown",
   "metadata": {
    "tags": []
   },
   "source": [
    "# Testing assumptions "
   ]
  },
  {
   "cell_type": "markdown",
   "metadata": {
    "tags": []
   },
   "source": [
    "## TEST FOR FE.3: Are the $\\Delta$ $u_{it}$'s correlated? "
   ]
  },
  {
   "cell_type": "code",
   "execution_count": 90,
   "metadata": {
    "tags": []
   },
   "outputs": [],
   "source": [
    "# Make function to calculate the serial correlation\n",
    "def serial_corr(y, x, T):\n",
    "    # Calculate the residuals\n",
    "    b_hat = lm.est_ols(y, x)\n",
    "    e = y - x@b_hat\n",
    "    \n",
    "    # Create a lag transformation matrix\n",
    "    L_T = np.eye(T, k=-1)\n",
    "    L_T = L_T[1:]\n",
    "\n",
    "    # Lag residuals\n",
    "    e_l = lm.perm(L_T, e)\n",
    "\n",
    "    # Create a transformation matrix that removes the first observation of each individal\n",
    "    I_T = np.eye(T, k=0)\n",
    "    I_T = I_T[1:]\n",
    "    \n",
    "    # Remove first observation of each individual\n",
    "    e = lm.perm(I_T, e)\n",
    "    \n",
    "    # Calculate the serial correlation\n",
    "    return lm.estimate(e, e_l,T=T-1)"
   ]
  },
  {
   "cell_type": "code",
   "execution_count": 91,
   "metadata": {
    "tags": []
   },
   "outputs": [
    {
     "name": "stdout",
     "output_type": "stream",
     "text": [
      "Serial Correlation\n",
      "Dependent variable: OLS residual, eᵢₜ\n",
      "\n",
      "          Beta      Se    t-values\n",
      "-----  -------  ------  ----------\n",
      "eᵢₜ₋₁  -0.1849  0.0483     -3.8295\n",
      "R² = 0.032\n",
      "σ² = 0.013\n"
     ]
    }
   ],
   "source": [
    "# Estimate serial correlation\n",
    "corr_result = serial_corr(y_diff, x_diff, T-1)\n",
    "\n",
    "# Print results\n",
    "label_ye = 'OLS residual, e\\u1d62\\u209c'\n",
    "label_e = ['e\\u1d62\\u209c\\u208B\\u2081']\n",
    "lm.print_table(\n",
    "    (label_ye, label_e), corr_result, \n",
    "    title='Serial Correlation', floatfmt='.4f'\n",
    ")"
   ]
  },
  {
   "cell_type": "markdown",
   "metadata": {
    "tags": []
   },
   "source": [
    "## TEST FOR FE.1/RE.1"
   ]
  },
  {
   "cell_type": "markdown",
   "metadata": {
    "tags": []
   },
   "source": [
    "### Constructing x_exo: regressors including leaded and lagged values"
   ]
  },
  {
   "cell_type": "markdown",
   "metadata": {},
   "source": [
    "#### Leads of x's"
   ]
  },
  {
   "cell_type": "code",
   "execution_count": 92,
   "metadata": {
    "tags": []
   },
   "outputs": [
    {
     "data": {
      "text/plain": [
       "(882, 5)"
      ]
     },
     "execution_count": 92,
     "metadata": {},
     "output_type": "execute_result"
    }
   ],
   "source": [
    "# Lead labour and capital \n",
    "F_T = np.eye(T, k=1)\n",
    "F_T = F_T[:-1]\n",
    "\n",
    "labour_lead = lm.perm(F_T, x[:, 1].reshape(-1, 1))\n",
    "capital_lead = lm.perm(F_T, x[:, 2].reshape(-1, 1))\n",
    "\n",
    "# Remove the last observed year for every individial\n",
    "I_T = np.eye(T, k=0)\n",
    "I_T = I_T[:-1]\n",
    "\n",
    "x_exo_lead = lm.perm(I_T, x[:,1:3])\n",
    "x_exo_lead_cons = lm.perm(I_T, x)\n",
    "y_exo_lead = lm.perm(I_T, y)\n",
    "\n",
    "# Add leaded to x_exo\n",
    "x_exo_lead = np.hstack((x_exo_lead, labour_lead, capital_lead))\n",
    "x_exo_lead_cons = np.hstack((x_exo_lead_cons, labour_lead, capital_lead))\n",
    "\n",
    "x_exo_lead.shape\n",
    "x_exo_lead_cons.shape"
   ]
  },
  {
   "cell_type": "code",
   "execution_count": 93,
   "metadata": {
    "tags": []
   },
   "outputs": [],
   "source": [
    "############### Fixed Effects ###############"
   ]
  },
  {
   "cell_type": "code",
   "execution_count": 94,
   "metadata": {
    "tags": []
   },
   "outputs": [],
   "source": [
    "# Within transform the data\n",
    "Q_T = demeaning_matrix(T - 1)\n",
    "yw_exo_lead = lm.perm(Q_T, y_exo_lead)\n",
    "xw_exo_lead = lm.perm(Q_T, x_exo_lead)"
   ]
  },
  {
   "cell_type": "code",
   "execution_count": 95,
   "metadata": {
    "tags": []
   },
   "outputs": [
    {
     "name": "stdout",
     "output_type": "stream",
     "text": [
      "Exogeneity test\n",
      "Dependent variable: log Deflated sales\n",
      "\n",
      "                              Beta      Se    t-values\n",
      "--------------------------  ------  ------  ----------\n",
      "log Employment              0.4599  0.0660      6.9707\n",
      "log Adjusted Capital Stock  0.0580  0.0746      0.7783\n",
      "Labour lead                 0.1552  0.0473      3.2785\n",
      "Capital lead                0.0656  0.0838      0.7828\n",
      "R² = 0.221\n",
      "σ² = 0.006\n"
     ]
    }
   ],
   "source": [
    "# Estimate model\n",
    "exo_lead_fe = lm.estimate(yw_exo_lead, xw_exo_lead, z=None, transform='fe', T=T-1, robust_se=True)\n",
    "\n",
    "# Print results\n",
    "label_exo = label_x_dt + ['Labour lead'] + ['Capital lead']\n",
    "lm.print_table((label_y, label_exo), exo_lead_fe, title='Exogeneity test', floatfmt='.4f')"
   ]
  },
  {
   "cell_type": "code",
   "execution_count": 96,
   "metadata": {
    "tags": []
   },
   "outputs": [],
   "source": [
    "############### Random Effects ###############"
   ]
  },
  {
   "cell_type": "code",
   "execution_count": 97,
   "metadata": {
    "tags": []
   },
   "outputs": [
    {
     "name": "stdout",
     "output_type": "stream",
     "text": [
      "['log constant', 'log Employment', 'log Adjusted Capital Stock', 'Labour lead', 'Capital lead']\n",
      "Exogeneity test\n",
      "Dependent variable: log Deflated sales\n",
      "\n",
      "                               Beta      Se    t-values\n",
      "--------------------------  -------  ------  ----------\n",
      "log constant                 0.0000  0.0163      0.0000\n",
      "log Employment               0.4825  0.2419      1.9948\n",
      "log Adjusted Capital Stock  -0.9159  0.2448     -3.7418\n",
      "Labour lead                  0.1597  0.2270      0.7033\n",
      "Capital lead                 1.2536  0.2485      5.0457\n",
      "R² = 0.930\n",
      "σ² = 0.066\n",
      "Lambda is approximately equal to 0.8204.\n",
      "Random Effects\n",
      "Dependent variable: log Deflated sales\n",
      "\n",
      "                               Beta      Se    t-values\n",
      "--------------------------  -------  ------  ----------\n",
      "log constant                 0.0000  0.0568      0.0000\n",
      "log Employment               0.2166  0.0862      2.5129\n",
      "log Adjusted Capital Stock  -0.2247  0.1219     -1.8434\n",
      "Labour lead                  0.4689  0.0861      5.4450\n",
      "Capital lead                 0.5151  0.1239      4.1576\n",
      "R² = 0.915\n",
      "σ² = 0.056\n"
     ]
    }
   ],
   "source": [
    "value = 1 / T\n",
    "P_T = np.full((T,1), value).reshape(1,-1)\n",
    " \n",
    "y_exo_lead_mean = lm.perm(P_T, y_exo_lead)\n",
    "x_exo_lead_cons_mean = lm.perm(P_T, x_exo_lead_cons)\n",
    "\n",
    "# Estimate \n",
    "exo_lead_be = lm.estimate(y_exo_lead_mean, x_exo_lead_cons_mean, z=None, transform='be', T=T-1, robust_se=True) \n",
    "\n",
    "#print(be_result)\n",
    "\n",
    "label_exo_cons = label_x + ['Labour lead'] + ['Capital lead']\n",
    "\n",
    "print(label_exo_cons)\n",
    "\n",
    "lm.print_table((label_y, label_exo_cons), exo_lead_be, title='Exogeneity test', floatfmt='.4f')\n",
    "\n",
    "# Calculate lambda (note lambda is a reserved keyword in Python, so we use _lambda instead)\n",
    "lead_sigma2_u = exo_lead_fe['sigma2']\n",
    "lead_sigma2_w = exo_lead_be['sigma2']\n",
    "lead_sigma2_c = lead_sigma2_w - (1/T*lead_sigma2_u)\n",
    "lead_lambda = 1-np.sqrt(lead_sigma2_u/(lead_sigma2_u+T*lead_sigma2_c))\n",
    "\n",
    "# Print lambda \n",
    "print(f'Lambda is approximately equal to {lead_lambda.item():.4f}.')\n",
    "\n",
    "# Transform the data\n",
    "C_T = np.identity(T)-lead_lambda*P_T\n",
    "y_exo_lead_re = lm.perm(C_T, y_exo_lead)\n",
    "x_exo_lead_re = lm.perm(C_T, x_exo_lead_cons)\n",
    "\n",
    "# Estimate \n",
    "exo_lead_re = lm.estimate(y_exo_lead_re, x_exo_lead_re, z=None, transform='re', T=T-1, robust_se=True)\n",
    "\n",
    "lm.print_table((label_y, label_exo_cons), exo_lead_re, title=\"Random Effects\", floatfmt='.4f')"
   ]
  },
  {
   "cell_type": "markdown",
   "metadata": {},
   "source": [
    "#### Lag of x's"
   ]
  },
  {
   "cell_type": "code",
   "execution_count": 98,
   "metadata": {
    "tags": []
   },
   "outputs": [],
   "source": [
    "######### Adding lagged variables of labour and capital to x ##########\n",
    "L_T = np.eye(T, k=-1)\n",
    "L_T = L_T[1:]\n",
    "\n",
    "labour_lag = lm.perm(L_T, x[:, 1].reshape(-1, 1))\n",
    "capital_lag = lm.perm(L_T, x[:, 2].reshape(-1, 1))\n",
    "\n",
    "# Remove the first observed year for every individial\n",
    "I_T = np.eye(T, k=0)\n",
    "I_T = I_T[1:]\n",
    "\n",
    "x_exo_lag = lm.perm(I_T, x[:,1:3])\n",
    "x_exo_lag_cons = lm.perm(I_T, x)\n",
    "\n",
    "y_exo_lag = lm.perm(I_T, y)\n",
    "\n",
    "# Add leaded to x_exo\n",
    "x_exo_lag = np.hstack((x_exo_lag, labour_lag, capital_lag))\n",
    "x_exo_lag_cons = np.hstack((x_exo_lag_cons, labour_lag, capital_lag))"
   ]
  },
  {
   "cell_type": "code",
   "execution_count": 70,
   "metadata": {
    "tags": []
   },
   "outputs": [],
   "source": [
    "# Within transform the data\n",
    "Q_T = demeaning_matrix(T - 1)\n",
    "yw_exo_lag = lm.perm(Q_T, y_exo_lag)\n",
    "xw_exo_lag = lm.perm(Q_T, x_exo_lag)"
   ]
  },
  {
   "cell_type": "code",
   "execution_count": 71,
   "metadata": {
    "tags": []
   },
   "outputs": [
    {
     "name": "stdout",
     "output_type": "stream",
     "text": [
      "Exogeneity test\n",
      "Dependent variable: log Deflated sales\n",
      "\n",
      "                              Beta      Se    t-values\n",
      "--------------------------  ------  ------  ----------\n",
      "log Employment              0.6433  0.0357     18.0009\n",
      "log Adjusted Capital Stock  0.1431  0.0449      3.1839\n",
      "Labour lag                  0.0570  0.0374      1.5250\n",
      "Capital lag                 0.0065  0.0331      0.1969\n",
      "R² = 0.448\n",
      "σ² = 0.017\n"
     ]
    }
   ],
   "source": [
    "# Estimate model\n",
    "exo_lag_fe = lm.estimate(yw_exo_lag, xw_exo_lag, z=None, transform='fe', T=T-1, robust_se=True)\n",
    "\n",
    "# Print results\n",
    "label_exo = label_x_dt + ['Labour lag'] + ['Capital lag']\n",
    "lm.print_table((label_y, label_exo), exo_lag_fe, title='Exogeneity test', floatfmt='.4f')"
   ]
  },
  {
   "cell_type": "code",
   "execution_count": 72,
   "metadata": {
    "tags": []
   },
   "outputs": [],
   "source": [
    "############### Random Effects ###############"
   ]
  },
  {
   "cell_type": "code",
   "execution_count": 73,
   "metadata": {
    "tags": []
   },
   "outputs": [
    {
     "name": "stdout",
     "output_type": "stream",
     "text": [
      "Exogeneity test\n",
      "Dependent variable: log Deflated sales\n",
      "\n",
      "                               Beta      Se    t-values\n",
      "--------------------------  -------  ------  ----------\n",
      "log constant                -0.0001  0.0131     -0.0108\n",
      "log Employment               1.5884  0.5762      2.7567\n",
      "log Adjusted Capital Stock   1.6675  0.4753      3.5085\n",
      "Labour lead                 -0.9468  0.5720     -1.6551\n",
      "Capital lead                -1.3076  0.4661     -2.8053\n",
      "R² = 0.936\n",
      "σ² = 0.068\n",
      "Lambda is approximately equal to 0.8569.\n",
      "Random Effects\n",
      "Dependent variable: log Deflated sales\n",
      "\n",
      "                               Beta      Se    t-values\n",
      "--------------------------  -------  ------  ----------\n",
      "log constant                -0.0003  0.0630     -0.0041\n",
      "log Employment               0.8115  0.0475     17.0985\n",
      "log Adjusted Capital Stock   0.4088  0.0557      7.3426\n",
      "Labour lead                 -0.1437  0.0505     -2.8455\n",
      "Capital lead                -0.0987  0.0503     -1.9624\n",
      "R² = 0.878\n",
      "σ² = 0.061\n"
     ]
    }
   ],
   "source": [
    "value = 1 / T\n",
    "P_T = np.full((T,1), value).reshape(1,-1)\n",
    " \n",
    "y_exo_lag_mean = lm.perm(P_T, y_exo_lag)\n",
    "x_exo_lag_cons_mean = lm.perm(P_T, x_exo_lag_cons)\n",
    "\n",
    "# Estimate \n",
    "exo_lag_be = lm.estimate(y_exo_lag_mean, x_exo_lag_cons_mean, z=None, transform='be', T=T-1, robust_se=True) \n",
    "\n",
    "#print(be_result)\n",
    "\n",
    "label_exo_cons = label_x + ['Labour lead'] + ['Capital lead']\n",
    "\n",
    "lm.print_table((label_y, label_exo_cons), exo_lag_be, title='Exogeneity test', floatfmt='.4f')\n",
    "\n",
    "# Calculate lambda (note lambda is a reserved keyword in Python, so we use _lambda instead)\n",
    "lag_sigma2_u = exo_lag_fe['sigma2']\n",
    "lag_sigma2_w = exo_lag_be['sigma2']\n",
    "lag_sigma2_c = lag_sigma2_w - (1/T*lag_sigma2_u)\n",
    "lag_lambda = 1-np.sqrt(lag_sigma2_u/(lag_sigma2_u+T*lag_sigma2_c))\n",
    "\n",
    "# Print lambda \n",
    "print(f'Lambda is approximately equal to {lag_lambda.item():.4f}.')\n",
    "\n",
    "# Transform the data\n",
    "C_T = np.identity(T)-lag_lambda*P_T\n",
    "y_exo_lag_re = lm.perm(C_T, y_exo_lag)\n",
    "x_exo_lag_re = lm.perm(C_T, x_exo_lag_cons)\n",
    "\n",
    "# Estimate \n",
    "exo_lag_re = lm.estimate(y_exo_lag_re, x_exo_lag_re, z=None, transform='re', T=T-1, robust_se=True)\n",
    "\n",
    "lm.print_table((label_y, label_exo_cons), exo_lag_re, title=\"Random Effects\", floatfmt='.4f')"
   ]
  },
  {
   "cell_type": "markdown",
   "metadata": {
    "tags": []
   },
   "source": [
    "# The Hausmann test \n",
    "## Comparing FE and RE "
   ]
  },
  {
   "cell_type": "code",
   "execution_count": 74,
   "metadata": {
    "tags": []
   },
   "outputs": [
    {
     "name": "stdout",
     "output_type": "stream",
     "text": [
      "The test statistic is 10.19.\n",
      "The critical value at a 5% significance level is 9.49.\n",
      "The p-value is 0.03739827.\n"
     ]
    }
   ],
   "source": [
    "# Calculate the test statistic\n",
    "b_diff = b_hat_fe-b_hat_re[1:3]\n",
    "cov_diff = varb_fe-varb_re[1:3,1:3]\n",
    "H = b_diff.T@la.inv(cov_diff)@b_diff\n",
    "\n",
    "# Find critical value and p-value at 5% significance level of chi^2 with M degrees of freedom\n",
    "M = 4\n",
    "\n",
    "import scipy.stats as stats\n",
    "crit_val = stats.chi2.ppf(1-0.05, df=M)\n",
    "p_val = 1-stats.chi2.cdf(H.item(), df=M)\n",
    "\n",
    "# Print the results\n",
    "print(f'The test statistic is {H.item():.2f}.')\n",
    "print(f'The critical value at a 5% significance level is {crit_val:.2f}.')\n",
    "print(f'The p-value is {p_val:.8f}.')"
   ]
  },
  {
   "cell_type": "code",
   "execution_count": null,
   "metadata": {},
   "outputs": [],
   "source": []
  },
  {
   "cell_type": "code",
   "execution_count": null,
   "metadata": {},
   "outputs": [],
   "source": []
  }
 ],
 "metadata": {
  "kernelspec": {
   "display_name": "Python 3 (ipykernel)",
   "language": "python",
   "name": "python3"
  },
  "language_info": {
   "codemirror_mode": {
    "name": "ipython",
    "version": 3
   },
   "file_extension": ".py",
   "mimetype": "text/x-python",
   "name": "python",
   "nbconvert_exporter": "python",
   "pygments_lexer": "ipython3",
   "version": "3.11.3"
  },
  "vscode": {
   "interpreter": {
    "hash": "ef42839c56fd8bee084dafb278faf4416bb17c87278e59e0e4bb5f7c8f27c505"
   }
  }
 },
 "nbformat": 4,
 "nbformat_minor": 4
}
